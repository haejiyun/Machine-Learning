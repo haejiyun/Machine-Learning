{
 "cells": [
  {
   "cell_type": "markdown",
   "metadata": {},
   "source": [
    "<img src = \"logo_lapage.png\" style = \"height:75\">"
   ]
  },
  {
   "cell_type": "markdown",
   "metadata": {},
   "source": [
    "<center><h1><span style = \"color:indianred\"> Analyse des ventes de librairie</span></h1></center>"
   ]
  },
  {
   "cell_type": "code",
   "execution_count": 1,
   "metadata": {},
   "outputs": [],
   "source": [
    "import pandas as pd\n",
    "import numpy as np\n",
    "import matplotlib.pyplot as plt\n",
    "import seaborn as sns"
   ]
  },
  {
   "cell_type": "code",
   "execution_count": 2,
   "metadata": {},
   "outputs": [],
   "source": [
    "customer = pd.read_csv('customers.csv')\n",
    "product = pd.read_csv('products.csv')\n",
    "transaction = pd.read_csv('transactions.csv')"
   ]
  },
  {
   "cell_type": "markdown",
   "metadata": {},
   "source": [
    "<h2><span style = 'color:indianred'>1. Aperçu et recherche des valeurs à nettoyer</span></h2>"
   ]
  },
  {
   "cell_type": "markdown",
   "metadata": {},
   "source": [
    "### Données clients"
   ]
  },
  {
   "cell_type": "code",
   "execution_count": 3,
   "metadata": {
    "scrolled": false
   },
   "outputs": [
    {
     "data": {
      "text/html": [
       "<div>\n",
       "<style scoped>\n",
       "    .dataframe tbody tr th:only-of-type {\n",
       "        vertical-align: middle;\n",
       "    }\n",
       "\n",
       "    .dataframe tbody tr th {\n",
       "        vertical-align: top;\n",
       "    }\n",
       "\n",
       "    .dataframe thead th {\n",
       "        text-align: right;\n",
       "    }\n",
       "</style>\n",
       "<table border=\"1\" class=\"dataframe\">\n",
       "  <thead>\n",
       "    <tr style=\"text-align: right;\">\n",
       "      <th></th>\n",
       "      <th>client_id</th>\n",
       "      <th>sex</th>\n",
       "      <th>birth</th>\n",
       "    </tr>\n",
       "  </thead>\n",
       "  <tbody>\n",
       "    <tr>\n",
       "      <th>0</th>\n",
       "      <td>c_4410</td>\n",
       "      <td>f</td>\n",
       "      <td>1967</td>\n",
       "    </tr>\n",
       "    <tr>\n",
       "      <th>1</th>\n",
       "      <td>c_7839</td>\n",
       "      <td>f</td>\n",
       "      <td>1975</td>\n",
       "    </tr>\n",
       "    <tr>\n",
       "      <th>2</th>\n",
       "      <td>c_1699</td>\n",
       "      <td>f</td>\n",
       "      <td>1984</td>\n",
       "    </tr>\n",
       "    <tr>\n",
       "      <th>3</th>\n",
       "      <td>c_5961</td>\n",
       "      <td>f</td>\n",
       "      <td>1962</td>\n",
       "    </tr>\n",
       "    <tr>\n",
       "      <th>4</th>\n",
       "      <td>c_5320</td>\n",
       "      <td>m</td>\n",
       "      <td>1943</td>\n",
       "    </tr>\n",
       "  </tbody>\n",
       "</table>\n",
       "</div>"
      ],
      "text/plain": [
       "  client_id sex  birth\n",
       "0    c_4410   f   1967\n",
       "1    c_7839   f   1975\n",
       "2    c_1699   f   1984\n",
       "3    c_5961   f   1962\n",
       "4    c_5320   m   1943"
      ]
     },
     "metadata": {},
     "output_type": "display_data"
    },
    {
     "name": "stdout",
     "output_type": "stream",
     "text": [
      "<class 'pandas.core.frame.DataFrame'>\n",
      "RangeIndex: 8623 entries, 0 to 8622\n",
      "Data columns (total 3 columns):\n",
      " #   Column     Non-Null Count  Dtype \n",
      "---  ------     --------------  ----- \n",
      " 0   client_id  8623 non-null   object\n",
      " 1   sex        8623 non-null   object\n",
      " 2   birth      8623 non-null   int64 \n",
      "dtypes: int64(1), object(2)\n",
      "memory usage: 202.2+ KB\n"
     ]
    }
   ],
   "source": [
    "# Aperçu des données\n",
    "\n",
    "display(customer.head())\n",
    "customer.info()"
   ]
  },
  {
   "cell_type": "code",
   "execution_count": 4,
   "metadata": {},
   "outputs": [
    {
     "data": {
      "text/plain": [
       "0"
      ]
     },
     "execution_count": 4,
     "metadata": {},
     "output_type": "execute_result"
    }
   ],
   "source": [
    "# Vérification des doublons\n",
    "\n",
    "customer.duplicated().sum()"
   ]
  },
  {
   "cell_type": "code",
   "execution_count": 5,
   "metadata": {},
   "outputs": [
    {
     "data": {
      "text/html": [
       "<div>\n",
       "<style scoped>\n",
       "    .dataframe tbody tr th:only-of-type {\n",
       "        vertical-align: middle;\n",
       "    }\n",
       "\n",
       "    .dataframe tbody tr th {\n",
       "        vertical-align: top;\n",
       "    }\n",
       "\n",
       "    .dataframe thead th {\n",
       "        text-align: right;\n",
       "    }\n",
       "</style>\n",
       "<table border=\"1\" class=\"dataframe\">\n",
       "  <thead>\n",
       "    <tr style=\"text-align: right;\">\n",
       "      <th></th>\n",
       "      <th>birth</th>\n",
       "    </tr>\n",
       "  </thead>\n",
       "  <tbody>\n",
       "    <tr>\n",
       "      <th>count</th>\n",
       "      <td>8623.000000</td>\n",
       "    </tr>\n",
       "    <tr>\n",
       "      <th>mean</th>\n",
       "      <td>1978.280877</td>\n",
       "    </tr>\n",
       "    <tr>\n",
       "      <th>std</th>\n",
       "      <td>16.919535</td>\n",
       "    </tr>\n",
       "    <tr>\n",
       "      <th>min</th>\n",
       "      <td>1929.000000</td>\n",
       "    </tr>\n",
       "    <tr>\n",
       "      <th>25%</th>\n",
       "      <td>1966.000000</td>\n",
       "    </tr>\n",
       "    <tr>\n",
       "      <th>50%</th>\n",
       "      <td>1979.000000</td>\n",
       "    </tr>\n",
       "    <tr>\n",
       "      <th>75%</th>\n",
       "      <td>1992.000000</td>\n",
       "    </tr>\n",
       "    <tr>\n",
       "      <th>max</th>\n",
       "      <td>2004.000000</td>\n",
       "    </tr>\n",
       "  </tbody>\n",
       "</table>\n",
       "</div>"
      ],
      "text/plain": [
       "             birth\n",
       "count  8623.000000\n",
       "mean   1978.280877\n",
       "std      16.919535\n",
       "min    1929.000000\n",
       "25%    1966.000000\n",
       "50%    1979.000000\n",
       "75%    1992.000000\n",
       "max    2004.000000"
      ]
     },
     "execution_count": 5,
     "metadata": {},
     "output_type": "execute_result"
    }
   ],
   "source": [
    "# Résumé des données numériques\n",
    "\n",
    "customer.describe()"
   ]
  },
  {
   "cell_type": "code",
   "execution_count": 6,
   "metadata": {},
   "outputs": [
    {
     "data": {
      "text/plain": [
       "f    4491\n",
       "m    4132\n",
       "Name: sex, dtype: int64"
      ]
     },
     "execution_count": 6,
     "metadata": {},
     "output_type": "execute_result"
    }
   ],
   "source": [
    "# Modalité de la variable sex\n",
    "\n",
    "customer.sex.value_counts()"
   ]
  },
  {
   "cell_type": "code",
   "execution_count": 7,
   "metadata": {
    "scrolled": true
   },
   "outputs": [
    {
     "data": {
      "text/plain": [
       "4299       c_1\n",
       "6894      c_10\n",
       "2137     c_100\n",
       "8472    c_1000\n",
       "3426    c_1001\n",
       "         ...  \n",
       "94       c_997\n",
       "2145     c_998\n",
       "7358     c_999\n",
       "2735      ct_0\n",
       "8494      ct_1\n",
       "Name: client_id, Length: 8623, dtype: object"
      ]
     },
     "execution_count": 7,
     "metadata": {},
     "output_type": "execute_result"
    }
   ],
   "source": [
    "# Modalité de la variable client_id\n",
    "\n",
    "customer.client_id.sort_values()"
   ]
  },
  {
   "cell_type": "code",
   "execution_count": 8,
   "metadata": {
    "scrolled": true
   },
   "outputs": [
    {
     "data": {
      "text/html": [
       "<div>\n",
       "<style scoped>\n",
       "    .dataframe tbody tr th:only-of-type {\n",
       "        vertical-align: middle;\n",
       "    }\n",
       "\n",
       "    .dataframe tbody tr th {\n",
       "        vertical-align: top;\n",
       "    }\n",
       "\n",
       "    .dataframe thead th {\n",
       "        text-align: right;\n",
       "    }\n",
       "</style>\n",
       "<table border=\"1\" class=\"dataframe\">\n",
       "  <thead>\n",
       "    <tr style=\"text-align: right;\">\n",
       "      <th></th>\n",
       "      <th>client_id</th>\n",
       "      <th>sex</th>\n",
       "      <th>birth</th>\n",
       "    </tr>\n",
       "  </thead>\n",
       "  <tbody>\n",
       "    <tr>\n",
       "      <th>2735</th>\n",
       "      <td>ct_0</td>\n",
       "      <td>f</td>\n",
       "      <td>2001</td>\n",
       "    </tr>\n",
       "    <tr>\n",
       "      <th>8494</th>\n",
       "      <td>ct_1</td>\n",
       "      <td>m</td>\n",
       "      <td>2001</td>\n",
       "    </tr>\n",
       "  </tbody>\n",
       "</table>\n",
       "</div>"
      ],
      "text/plain": [
       "     client_id sex  birth\n",
       "2735      ct_0   f   2001\n",
       "8494      ct_1   m   2001"
      ]
     },
     "execution_count": 8,
     "metadata": {},
     "output_type": "execute_result"
    }
   ],
   "source": [
    "# Verification de client_id particulier\n",
    "\n",
    "customer[customer.client_id.isin(['ct_0','ct_1'])]"
   ]
  },
  {
   "cell_type": "markdown",
   "metadata": {},
   "source": [
    "### Données produits"
   ]
  },
  {
   "cell_type": "code",
   "execution_count": 9,
   "metadata": {
    "scrolled": false
   },
   "outputs": [
    {
     "data": {
      "text/html": [
       "<div>\n",
       "<style scoped>\n",
       "    .dataframe tbody tr th:only-of-type {\n",
       "        vertical-align: middle;\n",
       "    }\n",
       "\n",
       "    .dataframe tbody tr th {\n",
       "        vertical-align: top;\n",
       "    }\n",
       "\n",
       "    .dataframe thead th {\n",
       "        text-align: right;\n",
       "    }\n",
       "</style>\n",
       "<table border=\"1\" class=\"dataframe\">\n",
       "  <thead>\n",
       "    <tr style=\"text-align: right;\">\n",
       "      <th></th>\n",
       "      <th>id_prod</th>\n",
       "      <th>price</th>\n",
       "      <th>categ</th>\n",
       "    </tr>\n",
       "  </thead>\n",
       "  <tbody>\n",
       "    <tr>\n",
       "      <th>0</th>\n",
       "      <td>0_1421</td>\n",
       "      <td>19.99</td>\n",
       "      <td>0</td>\n",
       "    </tr>\n",
       "    <tr>\n",
       "      <th>1</th>\n",
       "      <td>0_1368</td>\n",
       "      <td>5.13</td>\n",
       "      <td>0</td>\n",
       "    </tr>\n",
       "    <tr>\n",
       "      <th>2</th>\n",
       "      <td>0_731</td>\n",
       "      <td>17.99</td>\n",
       "      <td>0</td>\n",
       "    </tr>\n",
       "    <tr>\n",
       "      <th>3</th>\n",
       "      <td>1_587</td>\n",
       "      <td>4.99</td>\n",
       "      <td>1</td>\n",
       "    </tr>\n",
       "    <tr>\n",
       "      <th>4</th>\n",
       "      <td>0_1507</td>\n",
       "      <td>3.99</td>\n",
       "      <td>0</td>\n",
       "    </tr>\n",
       "  </tbody>\n",
       "</table>\n",
       "</div>"
      ],
      "text/plain": [
       "  id_prod  price  categ\n",
       "0  0_1421  19.99      0\n",
       "1  0_1368   5.13      0\n",
       "2   0_731  17.99      0\n",
       "3   1_587   4.99      1\n",
       "4  0_1507   3.99      0"
      ]
     },
     "metadata": {},
     "output_type": "display_data"
    },
    {
     "name": "stdout",
     "output_type": "stream",
     "text": [
      "<class 'pandas.core.frame.DataFrame'>\n",
      "RangeIndex: 3287 entries, 0 to 3286\n",
      "Data columns (total 3 columns):\n",
      " #   Column   Non-Null Count  Dtype  \n",
      "---  ------   --------------  -----  \n",
      " 0   id_prod  3287 non-null   object \n",
      " 1   price    3287 non-null   float64\n",
      " 2   categ    3287 non-null   int64  \n",
      "dtypes: float64(1), int64(1), object(1)\n",
      "memory usage: 77.2+ KB\n"
     ]
    }
   ],
   "source": [
    "# Aperçu des données\n",
    "\n",
    "display(product.head())\n",
    "product.info()"
   ]
  },
  {
   "cell_type": "code",
   "execution_count": 10,
   "metadata": {},
   "outputs": [
    {
     "data": {
      "text/plain": [
       "0"
      ]
     },
     "execution_count": 10,
     "metadata": {},
     "output_type": "execute_result"
    }
   ],
   "source": [
    "# Vérification des doublons\n",
    "\n",
    "product.duplicated().sum()"
   ]
  },
  {
   "cell_type": "code",
   "execution_count": 11,
   "metadata": {},
   "outputs": [
    {
     "data": {
      "text/html": [
       "<div>\n",
       "<style scoped>\n",
       "    .dataframe tbody tr th:only-of-type {\n",
       "        vertical-align: middle;\n",
       "    }\n",
       "\n",
       "    .dataframe tbody tr th {\n",
       "        vertical-align: top;\n",
       "    }\n",
       "\n",
       "    .dataframe thead th {\n",
       "        text-align: right;\n",
       "    }\n",
       "</style>\n",
       "<table border=\"1\" class=\"dataframe\">\n",
       "  <thead>\n",
       "    <tr style=\"text-align: right;\">\n",
       "      <th></th>\n",
       "      <th>price</th>\n",
       "      <th>categ</th>\n",
       "    </tr>\n",
       "  </thead>\n",
       "  <tbody>\n",
       "    <tr>\n",
       "      <th>count</th>\n",
       "      <td>3287.000000</td>\n",
       "      <td>3287.000000</td>\n",
       "    </tr>\n",
       "    <tr>\n",
       "      <th>mean</th>\n",
       "      <td>21.856641</td>\n",
       "      <td>0.370246</td>\n",
       "    </tr>\n",
       "    <tr>\n",
       "      <th>std</th>\n",
       "      <td>29.847908</td>\n",
       "      <td>0.615387</td>\n",
       "    </tr>\n",
       "    <tr>\n",
       "      <th>min</th>\n",
       "      <td>-1.000000</td>\n",
       "      <td>0.000000</td>\n",
       "    </tr>\n",
       "    <tr>\n",
       "      <th>25%</th>\n",
       "      <td>6.990000</td>\n",
       "      <td>0.000000</td>\n",
       "    </tr>\n",
       "    <tr>\n",
       "      <th>50%</th>\n",
       "      <td>13.060000</td>\n",
       "      <td>0.000000</td>\n",
       "    </tr>\n",
       "    <tr>\n",
       "      <th>75%</th>\n",
       "      <td>22.990000</td>\n",
       "      <td>1.000000</td>\n",
       "    </tr>\n",
       "    <tr>\n",
       "      <th>max</th>\n",
       "      <td>300.000000</td>\n",
       "      <td>2.000000</td>\n",
       "    </tr>\n",
       "  </tbody>\n",
       "</table>\n",
       "</div>"
      ],
      "text/plain": [
       "             price        categ\n",
       "count  3287.000000  3287.000000\n",
       "mean     21.856641     0.370246\n",
       "std      29.847908     0.615387\n",
       "min      -1.000000     0.000000\n",
       "25%       6.990000     0.000000\n",
       "50%      13.060000     0.000000\n",
       "75%      22.990000     1.000000\n",
       "max     300.000000     2.000000"
      ]
     },
     "execution_count": 11,
     "metadata": {},
     "output_type": "execute_result"
    }
   ],
   "source": [
    "# Résumé des données numériques\n",
    "\n",
    "product.describe()"
   ]
  },
  {
   "cell_type": "code",
   "execution_count": 12,
   "metadata": {},
   "outputs": [
    {
     "data": {
      "text/html": [
       "<div>\n",
       "<style scoped>\n",
       "    .dataframe tbody tr th:only-of-type {\n",
       "        vertical-align: middle;\n",
       "    }\n",
       "\n",
       "    .dataframe tbody tr th {\n",
       "        vertical-align: top;\n",
       "    }\n",
       "\n",
       "    .dataframe thead th {\n",
       "        text-align: right;\n",
       "    }\n",
       "</style>\n",
       "<table border=\"1\" class=\"dataframe\">\n",
       "  <thead>\n",
       "    <tr style=\"text-align: right;\">\n",
       "      <th></th>\n",
       "      <th>id_prod</th>\n",
       "      <th>price</th>\n",
       "      <th>categ</th>\n",
       "    </tr>\n",
       "  </thead>\n",
       "  <tbody>\n",
       "    <tr>\n",
       "      <th>731</th>\n",
       "      <td>T_0</td>\n",
       "      <td>-1.0</td>\n",
       "      <td>0</td>\n",
       "    </tr>\n",
       "  </tbody>\n",
       "</table>\n",
       "</div>"
      ],
      "text/plain": [
       "    id_prod  price  categ\n",
       "731     T_0   -1.0      0"
      ]
     },
     "execution_count": 12,
     "metadata": {},
     "output_type": "execute_result"
    }
   ],
   "source": [
    "# Vérification des produits à prix négatif\n",
    "\n",
    "product[product.price < 0]"
   ]
  },
  {
   "cell_type": "code",
   "execution_count": 13,
   "metadata": {},
   "outputs": [
    {
     "data": {
      "text/plain": [
       "0    2309\n",
       "1     739\n",
       "2     239\n",
       "Name: categ, dtype: int64"
      ]
     },
     "execution_count": 13,
     "metadata": {},
     "output_type": "execute_result"
    }
   ],
   "source": [
    "# Modalités de 'categ'\n",
    "\n",
    "product.categ.value_counts()"
   ]
  },
  {
   "cell_type": "code",
   "execution_count": 14,
   "metadata": {},
   "outputs": [
    {
     "data": {
      "text/plain": [
       "1001       0_0\n",
       "803        0_1\n",
       "2691      0_10\n",
       "663      0_100\n",
       "922     0_1000\n",
       "         ...  \n",
       "2576      2_96\n",
       "2698      2_97\n",
       "3088      2_98\n",
       "3188      2_99\n",
       "731        T_0\n",
       "Name: id_prod, Length: 3287, dtype: object"
      ]
     },
     "execution_count": 14,
     "metadata": {},
     "output_type": "execute_result"
    }
   ],
   "source": [
    "# Modalités de 'id_prod'\n",
    "\n",
    "product.id_prod.sort_values()"
   ]
  },
  {
   "cell_type": "code",
   "execution_count": 15,
   "metadata": {
    "scrolled": true
   },
   "outputs": [
    {
     "data": {
      "text/html": [
       "<div>\n",
       "<style scoped>\n",
       "    .dataframe tbody tr th:only-of-type {\n",
       "        vertical-align: middle;\n",
       "    }\n",
       "\n",
       "    .dataframe tbody tr th {\n",
       "        vertical-align: top;\n",
       "    }\n",
       "\n",
       "    .dataframe thead th {\n",
       "        text-align: right;\n",
       "    }\n",
       "</style>\n",
       "<table border=\"1\" class=\"dataframe\">\n",
       "  <thead>\n",
       "    <tr style=\"text-align: right;\">\n",
       "      <th></th>\n",
       "      <th>id_prod</th>\n",
       "      <th>price</th>\n",
       "      <th>categ</th>\n",
       "    </tr>\n",
       "  </thead>\n",
       "  <tbody>\n",
       "    <tr>\n",
       "      <th>731</th>\n",
       "      <td>T_0</td>\n",
       "      <td>-1.0</td>\n",
       "      <td>0</td>\n",
       "    </tr>\n",
       "  </tbody>\n",
       "</table>\n",
       "</div>"
      ],
      "text/plain": [
       "    id_prod  price  categ\n",
       "731     T_0   -1.0      0"
      ]
     },
     "execution_count": 15,
     "metadata": {},
     "output_type": "execute_result"
    }
   ],
   "source": [
    "product[product.id_prod.isin(['T_0'])]"
   ]
  },
  {
   "cell_type": "markdown",
   "metadata": {},
   "source": [
    "### Données transactions"
   ]
  },
  {
   "cell_type": "code",
   "execution_count": 16,
   "metadata": {
    "scrolled": false
   },
   "outputs": [
    {
     "data": {
      "text/html": [
       "<div>\n",
       "<style scoped>\n",
       "    .dataframe tbody tr th:only-of-type {\n",
       "        vertical-align: middle;\n",
       "    }\n",
       "\n",
       "    .dataframe tbody tr th {\n",
       "        vertical-align: top;\n",
       "    }\n",
       "\n",
       "    .dataframe thead th {\n",
       "        text-align: right;\n",
       "    }\n",
       "</style>\n",
       "<table border=\"1\" class=\"dataframe\">\n",
       "  <thead>\n",
       "    <tr style=\"text-align: right;\">\n",
       "      <th></th>\n",
       "      <th>id_prod</th>\n",
       "      <th>date</th>\n",
       "      <th>session_id</th>\n",
       "      <th>client_id</th>\n",
       "    </tr>\n",
       "  </thead>\n",
       "  <tbody>\n",
       "    <tr>\n",
       "      <th>0</th>\n",
       "      <td>0_1518</td>\n",
       "      <td>2022-05-20 13:21:29.043970</td>\n",
       "      <td>s_211425</td>\n",
       "      <td>c_103</td>\n",
       "    </tr>\n",
       "    <tr>\n",
       "      <th>1</th>\n",
       "      <td>1_251</td>\n",
       "      <td>2022-02-02 07:55:19.149409</td>\n",
       "      <td>s_158752</td>\n",
       "      <td>c_8534</td>\n",
       "    </tr>\n",
       "    <tr>\n",
       "      <th>2</th>\n",
       "      <td>0_1277</td>\n",
       "      <td>2022-06-18 15:44:33.155329</td>\n",
       "      <td>s_225667</td>\n",
       "      <td>c_6714</td>\n",
       "    </tr>\n",
       "    <tr>\n",
       "      <th>3</th>\n",
       "      <td>2_209</td>\n",
       "      <td>2021-06-24 04:19:29.835891</td>\n",
       "      <td>s_52962</td>\n",
       "      <td>c_6941</td>\n",
       "    </tr>\n",
       "    <tr>\n",
       "      <th>4</th>\n",
       "      <td>0_1509</td>\n",
       "      <td>2023-01-11 08:22:08.194479</td>\n",
       "      <td>s_325227</td>\n",
       "      <td>c_4232</td>\n",
       "    </tr>\n",
       "  </tbody>\n",
       "</table>\n",
       "</div>"
      ],
      "text/plain": [
       "  id_prod                        date session_id client_id\n",
       "0  0_1518  2022-05-20 13:21:29.043970   s_211425     c_103\n",
       "1   1_251  2022-02-02 07:55:19.149409   s_158752    c_8534\n",
       "2  0_1277  2022-06-18 15:44:33.155329   s_225667    c_6714\n",
       "3   2_209  2021-06-24 04:19:29.835891    s_52962    c_6941\n",
       "4  0_1509  2023-01-11 08:22:08.194479   s_325227    c_4232"
      ]
     },
     "metadata": {},
     "output_type": "display_data"
    },
    {
     "name": "stdout",
     "output_type": "stream",
     "text": [
      "<class 'pandas.core.frame.DataFrame'>\n",
      "RangeIndex: 679532 entries, 0 to 679531\n",
      "Data columns (total 4 columns):\n",
      " #   Column      Non-Null Count   Dtype \n",
      "---  ------      --------------   ----- \n",
      " 0   id_prod     679532 non-null  object\n",
      " 1   date        679532 non-null  object\n",
      " 2   session_id  679532 non-null  object\n",
      " 3   client_id   679532 non-null  object\n",
      "dtypes: object(4)\n",
      "memory usage: 20.7+ MB\n"
     ]
    }
   ],
   "source": [
    "# Aperçu des données\n",
    "\n",
    "display(transaction.head())\n",
    "transaction.info()"
   ]
  },
  {
   "cell_type": "code",
   "execution_count": 17,
   "metadata": {},
   "outputs": [
    {
     "data": {
      "text/plain": [
       "126"
      ]
     },
     "execution_count": 17,
     "metadata": {},
     "output_type": "execute_result"
    }
   ],
   "source": [
    "# Vérification des doublons\n",
    "\n",
    "transaction.duplicated().sum()"
   ]
  },
  {
   "cell_type": "code",
   "execution_count": 18,
   "metadata": {
    "scrolled": false
   },
   "outputs": [
    {
     "data": {
      "text/html": [
       "<div>\n",
       "<style scoped>\n",
       "    .dataframe tbody tr th:only-of-type {\n",
       "        vertical-align: middle;\n",
       "    }\n",
       "\n",
       "    .dataframe tbody tr th {\n",
       "        vertical-align: top;\n",
       "    }\n",
       "\n",
       "    .dataframe thead th {\n",
       "        text-align: right;\n",
       "    }\n",
       "</style>\n",
       "<table border=\"1\" class=\"dataframe\">\n",
       "  <thead>\n",
       "    <tr style=\"text-align: right;\">\n",
       "      <th></th>\n",
       "      <th>id_prod</th>\n",
       "      <th>date</th>\n",
       "      <th>session_id</th>\n",
       "      <th>client_id</th>\n",
       "    </tr>\n",
       "  </thead>\n",
       "  <tbody>\n",
       "    <tr>\n",
       "      <th>3019</th>\n",
       "      <td>T_0</td>\n",
       "      <td>test_2021-03-01 02:30:02.237419</td>\n",
       "      <td>s_0</td>\n",
       "      <td>ct_0</td>\n",
       "    </tr>\n",
       "    <tr>\n",
       "      <th>9668</th>\n",
       "      <td>T_0</td>\n",
       "      <td>test_2021-03-01 02:30:02.237437</td>\n",
       "      <td>s_0</td>\n",
       "      <td>ct_1</td>\n",
       "    </tr>\n",
       "    <tr>\n",
       "      <th>10728</th>\n",
       "      <td>T_0</td>\n",
       "      <td>test_2021-03-01 02:30:02.237436</td>\n",
       "      <td>s_0</td>\n",
       "      <td>ct_0</td>\n",
       "    </tr>\n",
       "    <tr>\n",
       "      <th>15292</th>\n",
       "      <td>T_0</td>\n",
       "      <td>test_2021-03-01 02:30:02.237430</td>\n",
       "      <td>s_0</td>\n",
       "      <td>ct_0</td>\n",
       "    </tr>\n",
       "    <tr>\n",
       "      <th>19312</th>\n",
       "      <td>T_0</td>\n",
       "      <td>test_2021-03-01 02:30:02.237449</td>\n",
       "      <td>s_0</td>\n",
       "      <td>ct_0</td>\n",
       "    </tr>\n",
       "    <tr>\n",
       "      <th>...</th>\n",
       "      <td>...</td>\n",
       "      <td>...</td>\n",
       "      <td>...</td>\n",
       "      <td>...</td>\n",
       "    </tr>\n",
       "    <tr>\n",
       "      <th>653098</th>\n",
       "      <td>T_0</td>\n",
       "      <td>test_2021-03-01 02:30:02.237432</td>\n",
       "      <td>s_0</td>\n",
       "      <td>ct_0</td>\n",
       "    </tr>\n",
       "    <tr>\n",
       "      <th>657830</th>\n",
       "      <td>T_0</td>\n",
       "      <td>test_2021-03-01 02:30:02.237417</td>\n",
       "      <td>s_0</td>\n",
       "      <td>ct_0</td>\n",
       "    </tr>\n",
       "    <tr>\n",
       "      <th>662081</th>\n",
       "      <td>T_0</td>\n",
       "      <td>test_2021-03-01 02:30:02.237427</td>\n",
       "      <td>s_0</td>\n",
       "      <td>ct_1</td>\n",
       "    </tr>\n",
       "    <tr>\n",
       "      <th>671647</th>\n",
       "      <td>T_0</td>\n",
       "      <td>test_2021-03-01 02:30:02.237424</td>\n",
       "      <td>s_0</td>\n",
       "      <td>ct_1</td>\n",
       "    </tr>\n",
       "    <tr>\n",
       "      <th>679180</th>\n",
       "      <td>T_0</td>\n",
       "      <td>test_2021-03-01 02:30:02.237425</td>\n",
       "      <td>s_0</td>\n",
       "      <td>ct_1</td>\n",
       "    </tr>\n",
       "  </tbody>\n",
       "</table>\n",
       "<p>183 rows × 4 columns</p>\n",
       "</div>"
      ],
      "text/plain": [
       "       id_prod                             date session_id client_id\n",
       "3019       T_0  test_2021-03-01 02:30:02.237419        s_0      ct_0\n",
       "9668       T_0  test_2021-03-01 02:30:02.237437        s_0      ct_1\n",
       "10728      T_0  test_2021-03-01 02:30:02.237436        s_0      ct_0\n",
       "15292      T_0  test_2021-03-01 02:30:02.237430        s_0      ct_0\n",
       "19312      T_0  test_2021-03-01 02:30:02.237449        s_0      ct_0\n",
       "...        ...                              ...        ...       ...\n",
       "653098     T_0  test_2021-03-01 02:30:02.237432        s_0      ct_0\n",
       "657830     T_0  test_2021-03-01 02:30:02.237417        s_0      ct_0\n",
       "662081     T_0  test_2021-03-01 02:30:02.237427        s_0      ct_1\n",
       "671647     T_0  test_2021-03-01 02:30:02.237424        s_0      ct_1\n",
       "679180     T_0  test_2021-03-01 02:30:02.237425        s_0      ct_1\n",
       "\n",
       "[183 rows x 4 columns]"
      ]
     },
     "execution_count": 18,
     "metadata": {},
     "output_type": "execute_result"
    }
   ],
   "source": [
    "# Affichage des doublons\n",
    "\n",
    "transaction[transaction.duplicated(keep=False)]"
   ]
  },
  {
   "cell_type": "code",
   "execution_count": 19,
   "metadata": {
    "scrolled": false
   },
   "outputs": [
    {
     "data": {
      "text/html": [
       "<div>\n",
       "<style scoped>\n",
       "    .dataframe tbody tr th:only-of-type {\n",
       "        vertical-align: middle;\n",
       "    }\n",
       "\n",
       "    .dataframe tbody tr th {\n",
       "        vertical-align: top;\n",
       "    }\n",
       "\n",
       "    .dataframe thead th {\n",
       "        text-align: right;\n",
       "    }\n",
       "</style>\n",
       "<table border=\"1\" class=\"dataframe\">\n",
       "  <thead>\n",
       "    <tr style=\"text-align: right;\">\n",
       "      <th></th>\n",
       "      <th>id_prod</th>\n",
       "      <th>date</th>\n",
       "      <th>session_id</th>\n",
       "      <th>client_id</th>\n",
       "    </tr>\n",
       "  </thead>\n",
       "  <tbody>\n",
       "    <tr>\n",
       "      <th>96687</th>\n",
       "      <td>T_0</td>\n",
       "      <td>test_2021-03-01 02:30:02.237412</td>\n",
       "      <td>s_0</td>\n",
       "      <td>ct_1</td>\n",
       "    </tr>\n",
       "    <tr>\n",
       "      <th>91133</th>\n",
       "      <td>T_0</td>\n",
       "      <td>test_2021-03-01 02:30:02.237412</td>\n",
       "      <td>s_0</td>\n",
       "      <td>ct_1</td>\n",
       "    </tr>\n",
       "    <tr>\n",
       "      <th>548383</th>\n",
       "      <td>T_0</td>\n",
       "      <td>test_2021-03-01 02:30:02.237412</td>\n",
       "      <td>s_0</td>\n",
       "      <td>ct_1</td>\n",
       "    </tr>\n",
       "    <tr>\n",
       "      <th>453857</th>\n",
       "      <td>T_0</td>\n",
       "      <td>test_2021-03-01 02:30:02.237412</td>\n",
       "      <td>s_0</td>\n",
       "      <td>ct_1</td>\n",
       "    </tr>\n",
       "    <tr>\n",
       "      <th>606326</th>\n",
       "      <td>T_0</td>\n",
       "      <td>test_2021-03-01 02:30:02.237412</td>\n",
       "      <td>s_0</td>\n",
       "      <td>ct_1</td>\n",
       "    </tr>\n",
       "    <tr>\n",
       "      <th>...</th>\n",
       "      <td>...</td>\n",
       "      <td>...</td>\n",
       "      <td>...</td>\n",
       "      <td>...</td>\n",
       "    </tr>\n",
       "    <tr>\n",
       "      <th>312697</th>\n",
       "      <td>T_0</td>\n",
       "      <td>test_2021-03-01 02:30:02.237447</td>\n",
       "      <td>s_0</td>\n",
       "      <td>ct_1</td>\n",
       "    </tr>\n",
       "    <tr>\n",
       "      <th>621687</th>\n",
       "      <td>T_0</td>\n",
       "      <td>test_2021-03-01 02:30:02.237447</td>\n",
       "      <td>s_0</td>\n",
       "      <td>ct_1</td>\n",
       "    </tr>\n",
       "    <tr>\n",
       "      <th>320833</th>\n",
       "      <td>T_0</td>\n",
       "      <td>test_2021-03-01 02:30:02.237447</td>\n",
       "      <td>s_0</td>\n",
       "      <td>ct_1</td>\n",
       "    </tr>\n",
       "    <tr>\n",
       "      <th>19312</th>\n",
       "      <td>T_0</td>\n",
       "      <td>test_2021-03-01 02:30:02.237449</td>\n",
       "      <td>s_0</td>\n",
       "      <td>ct_0</td>\n",
       "    </tr>\n",
       "    <tr>\n",
       "      <th>573155</th>\n",
       "      <td>T_0</td>\n",
       "      <td>test_2021-03-01 02:30:02.237449</td>\n",
       "      <td>s_0</td>\n",
       "      <td>ct_0</td>\n",
       "    </tr>\n",
       "  </tbody>\n",
       "</table>\n",
       "<p>183 rows × 4 columns</p>\n",
       "</div>"
      ],
      "text/plain": [
       "       id_prod                             date session_id client_id\n",
       "96687      T_0  test_2021-03-01 02:30:02.237412        s_0      ct_1\n",
       "91133      T_0  test_2021-03-01 02:30:02.237412        s_0      ct_1\n",
       "548383     T_0  test_2021-03-01 02:30:02.237412        s_0      ct_1\n",
       "453857     T_0  test_2021-03-01 02:30:02.237412        s_0      ct_1\n",
       "606326     T_0  test_2021-03-01 02:30:02.237412        s_0      ct_1\n",
       "...        ...                              ...        ...       ...\n",
       "312697     T_0  test_2021-03-01 02:30:02.237447        s_0      ct_1\n",
       "621687     T_0  test_2021-03-01 02:30:02.237447        s_0      ct_1\n",
       "320833     T_0  test_2021-03-01 02:30:02.237447        s_0      ct_1\n",
       "19312      T_0  test_2021-03-01 02:30:02.237449        s_0      ct_0\n",
       "573155     T_0  test_2021-03-01 02:30:02.237449        s_0      ct_0\n",
       "\n",
       "[183 rows x 4 columns]"
      ]
     },
     "execution_count": 19,
     "metadata": {},
     "output_type": "execute_result"
    }
   ],
   "source": [
    "# Affichage des doublons en ordre de date\n",
    "\n",
    "transaction[transaction.duplicated(keep=False)].sort_values('date')"
   ]
  },
  {
   "cell_type": "code",
   "execution_count": 20,
   "metadata": {},
   "outputs": [],
   "source": [
    "# Suppression des doublons\n",
    "\n",
    "transaction = transaction.drop_duplicates(keep='first')"
   ]
  },
  {
   "cell_type": "code",
   "execution_count": 21,
   "metadata": {},
   "outputs": [
    {
     "data": {
      "text/plain": [
       "568104    0_0\n",
       "31591     0_0\n",
       "10243     0_0\n",
       "666045    0_0\n",
       "109568    0_0\n",
       "         ... \n",
       "577324    T_0\n",
       "260133    T_0\n",
       "201530    T_0\n",
       "259417    T_0\n",
       "392443    T_0\n",
       "Name: id_prod, Length: 679406, dtype: object"
      ]
     },
     "execution_count": 21,
     "metadata": {},
     "output_type": "execute_result"
    }
   ],
   "source": [
    "# Modalités de 'id_prod'\n",
    "\n",
    "transaction.id_prod.sort_values()"
   ]
  },
  {
   "cell_type": "code",
   "execution_count": 22,
   "metadata": {},
   "outputs": [
    {
     "data": {
      "text/html": [
       "<div>\n",
       "<style scoped>\n",
       "    .dataframe tbody tr th:only-of-type {\n",
       "        vertical-align: middle;\n",
       "    }\n",
       "\n",
       "    .dataframe tbody tr th {\n",
       "        vertical-align: top;\n",
       "    }\n",
       "\n",
       "    .dataframe thead th {\n",
       "        text-align: right;\n",
       "    }\n",
       "</style>\n",
       "<table border=\"1\" class=\"dataframe\">\n",
       "  <thead>\n",
       "    <tr style=\"text-align: right;\">\n",
       "      <th></th>\n",
       "      <th>id_prod</th>\n",
       "      <th>date</th>\n",
       "      <th>session_id</th>\n",
       "      <th>client_id</th>\n",
       "    </tr>\n",
       "  </thead>\n",
       "  <tbody>\n",
       "    <tr>\n",
       "      <th>3019</th>\n",
       "      <td>T_0</td>\n",
       "      <td>test_2021-03-01 02:30:02.237419</td>\n",
       "      <td>s_0</td>\n",
       "      <td>ct_0</td>\n",
       "    </tr>\n",
       "    <tr>\n",
       "      <th>5138</th>\n",
       "      <td>T_0</td>\n",
       "      <td>test_2021-03-01 02:30:02.237425</td>\n",
       "      <td>s_0</td>\n",
       "      <td>ct_0</td>\n",
       "    </tr>\n",
       "    <tr>\n",
       "      <th>9668</th>\n",
       "      <td>T_0</td>\n",
       "      <td>test_2021-03-01 02:30:02.237437</td>\n",
       "      <td>s_0</td>\n",
       "      <td>ct_1</td>\n",
       "    </tr>\n",
       "    <tr>\n",
       "      <th>10728</th>\n",
       "      <td>T_0</td>\n",
       "      <td>test_2021-03-01 02:30:02.237436</td>\n",
       "      <td>s_0</td>\n",
       "      <td>ct_0</td>\n",
       "    </tr>\n",
       "    <tr>\n",
       "      <th>15292</th>\n",
       "      <td>T_0</td>\n",
       "      <td>test_2021-03-01 02:30:02.237430</td>\n",
       "      <td>s_0</td>\n",
       "      <td>ct_0</td>\n",
       "    </tr>\n",
       "    <tr>\n",
       "      <th>...</th>\n",
       "      <td>...</td>\n",
       "      <td>...</td>\n",
       "      <td>...</td>\n",
       "      <td>...</td>\n",
       "    </tr>\n",
       "    <tr>\n",
       "      <th>577324</th>\n",
       "      <td>T_0</td>\n",
       "      <td>test_2021-03-01 02:30:02.237424</td>\n",
       "      <td>s_0</td>\n",
       "      <td>ct_0</td>\n",
       "    </tr>\n",
       "    <tr>\n",
       "      <th>593065</th>\n",
       "      <td>T_0</td>\n",
       "      <td>test_2021-03-01 02:30:02.237422</td>\n",
       "      <td>s_0</td>\n",
       "      <td>ct_1</td>\n",
       "    </tr>\n",
       "    <tr>\n",
       "      <th>607892</th>\n",
       "      <td>T_0</td>\n",
       "      <td>test_2021-03-01 02:30:02.237412</td>\n",
       "      <td>s_0</td>\n",
       "      <td>ct_0</td>\n",
       "    </tr>\n",
       "    <tr>\n",
       "      <th>626049</th>\n",
       "      <td>T_0</td>\n",
       "      <td>test_2021-03-01 02:30:02.237422</td>\n",
       "      <td>s_0</td>\n",
       "      <td>ct_0</td>\n",
       "    </tr>\n",
       "    <tr>\n",
       "      <th>670680</th>\n",
       "      <td>T_0</td>\n",
       "      <td>test_2021-03-01 02:30:02.237449</td>\n",
       "      <td>s_0</td>\n",
       "      <td>ct_1</td>\n",
       "    </tr>\n",
       "  </tbody>\n",
       "</table>\n",
       "<p>74 rows × 4 columns</p>\n",
       "</div>"
      ],
      "text/plain": [
       "       id_prod                             date session_id client_id\n",
       "3019       T_0  test_2021-03-01 02:30:02.237419        s_0      ct_0\n",
       "5138       T_0  test_2021-03-01 02:30:02.237425        s_0      ct_0\n",
       "9668       T_0  test_2021-03-01 02:30:02.237437        s_0      ct_1\n",
       "10728      T_0  test_2021-03-01 02:30:02.237436        s_0      ct_0\n",
       "15292      T_0  test_2021-03-01 02:30:02.237430        s_0      ct_0\n",
       "...        ...                              ...        ...       ...\n",
       "577324     T_0  test_2021-03-01 02:30:02.237424        s_0      ct_0\n",
       "593065     T_0  test_2021-03-01 02:30:02.237422        s_0      ct_1\n",
       "607892     T_0  test_2021-03-01 02:30:02.237412        s_0      ct_0\n",
       "626049     T_0  test_2021-03-01 02:30:02.237422        s_0      ct_0\n",
       "670680     T_0  test_2021-03-01 02:30:02.237449        s_0      ct_1\n",
       "\n",
       "[74 rows x 4 columns]"
      ]
     },
     "execution_count": 22,
     "metadata": {},
     "output_type": "execute_result"
    }
   ],
   "source": [
    "# Transaction ayant 'T_0' pour 'id_prod'\n",
    "\n",
    "transaction[transaction.id_prod.isin(['T_0'])]"
   ]
  },
  {
   "cell_type": "code",
   "execution_count": 23,
   "metadata": {},
   "outputs": [
    {
     "data": {
      "text/plain": [
       "s_0    74\n",
       "Name: session_id, dtype: int64"
      ]
     },
     "execution_count": 23,
     "metadata": {},
     "output_type": "execute_result"
    }
   ],
   "source": [
    "# Différents session_id de transaction ayant 'T_0' pour 'id_prod'\n",
    "\n",
    "transaction[transaction.id_prod.isin(['T_0'])].session_id.value_counts()"
   ]
  },
  {
   "cell_type": "code",
   "execution_count": 24,
   "metadata": {},
   "outputs": [
    {
     "data": {
      "text/plain": [
       "ct_0    37\n",
       "ct_1    37\n",
       "Name: client_id, dtype: int64"
      ]
     },
     "execution_count": 24,
     "metadata": {},
     "output_type": "execute_result"
    }
   ],
   "source": [
    "transaction[transaction.id_prod.isin(['T_0'])].client_id.value_counts()"
   ]
  },
  {
   "cell_type": "code",
   "execution_count": 25,
   "metadata": {
    "scrolled": true
   },
   "outputs": [
    {
     "data": {
      "text/plain": [
       "test_2021-03-01 02:30:02.237449    2\n",
       "test_2021-03-01 02:30:02.237430    2\n",
       "test_2021-03-01 02:30:02.237428    2\n",
       "test_2021-03-01 02:30:02.237424    2\n",
       "test_2021-03-01 02:30:02.237414    2\n",
       "                                  ..\n",
       "2022-07-14 13:51:26.533057         1\n",
       "2021-05-09 01:09:02.838161         1\n",
       "2021-09-30 09:55:27.316636         1\n",
       "2022-03-11 05:15:56.434468         1\n",
       "2022-09-28 01:12:01.973763         1\n",
       "Name: date, Length: 679371, dtype: int64"
      ]
     },
     "execution_count": 25,
     "metadata": {},
     "output_type": "execute_result"
    }
   ],
   "source": [
    "# Modalité de variable date\n",
    "\n",
    "transaction['date'].value_counts()"
   ]
  },
  {
   "cell_type": "markdown",
   "metadata": {},
   "source": [
    "<h2><span style = 'color:indianred'>2. Nettoyage des données</span></h2>"
   ]
  },
  {
   "cell_type": "markdown",
   "metadata": {},
   "source": [
    "### Données clients"
   ]
  },
  {
   "cell_type": "code",
   "execution_count": 26,
   "metadata": {},
   "outputs": [
    {
     "data": {
      "text/plain": [
       "Index(['client_id', 'sex', 'birth'], dtype='object')"
      ]
     },
     "execution_count": 26,
     "metadata": {},
     "output_type": "execute_result"
    }
   ],
   "source": [
    "# Les columes des données clients\n",
    "\n",
    "customer.columns"
   ]
  },
  {
   "cell_type": "code",
   "execution_count": 27,
   "metadata": {},
   "outputs": [],
   "source": [
    "# Suppression des données ayant id_client 'ct_0', 'ct_1'\n",
    "\n",
    "customer = customer.drop(customer[customer.client_id.isin(['ct_0','ct_1'])].index)"
   ]
  },
  {
   "cell_type": "code",
   "execution_count": 28,
   "metadata": {},
   "outputs": [
    {
     "data": {
      "text/plain": [
       "4299       c_1\n",
       "6894      c_10\n",
       "2137     c_100\n",
       "8472    c_1000\n",
       "3426    c_1001\n",
       "         ...  \n",
       "7004     c_995\n",
       "2788     c_996\n",
       "94       c_997\n",
       "2145     c_998\n",
       "7358     c_999\n",
       "Name: client_id, Length: 8621, dtype: object"
      ]
     },
     "execution_count": 28,
     "metadata": {},
     "output_type": "execute_result"
    }
   ],
   "source": [
    "# Verification de suppression\n",
    "\n",
    "customer.client_id.sort_values()"
   ]
  },
  {
   "cell_type": "markdown",
   "metadata": {},
   "source": [
    "### Données produits"
   ]
  },
  {
   "cell_type": "code",
   "execution_count": 29,
   "metadata": {},
   "outputs": [
    {
     "data": {
      "text/plain": [
       "Index(['id_prod', 'price', 'categ'], dtype='object')"
      ]
     },
     "execution_count": 29,
     "metadata": {},
     "output_type": "execute_result"
    }
   ],
   "source": [
    "# Les columes des données produits\n",
    "\n",
    "product.columns"
   ]
  },
  {
   "cell_type": "code",
   "execution_count": 30,
   "metadata": {},
   "outputs": [],
   "source": [
    "# Suppression des données ayant id_prod 'T_0'\n",
    "\n",
    "product = product.drop(product[product.id_prod.isin(['T_0'])].index)"
   ]
  },
  {
   "cell_type": "code",
   "execution_count": 31,
   "metadata": {},
   "outputs": [
    {
     "data": {
      "text/plain": [
       "0"
      ]
     },
     "execution_count": 31,
     "metadata": {},
     "output_type": "execute_result"
    }
   ],
   "source": [
    "# Vérification de suppression\n",
    "\n",
    "product.id_prod.isin(['T_0']).sum()"
   ]
  },
  {
   "cell_type": "code",
   "execution_count": 32,
   "metadata": {},
   "outputs": [
    {
     "data": {
      "text/plain": [
       "0"
      ]
     },
     "execution_count": 32,
     "metadata": {},
     "output_type": "execute_result"
    }
   ],
   "source": [
    "# Vérification s'il reste des produits à prix négatif\n",
    "\n",
    "sum(product.price < 0)"
   ]
  },
  {
   "cell_type": "markdown",
   "metadata": {},
   "source": [
    "### Données transactions"
   ]
  },
  {
   "cell_type": "code",
   "execution_count": 33,
   "metadata": {},
   "outputs": [
    {
     "data": {
      "text/plain": [
       "Index(['id_prod', 'date', 'session_id', 'client_id'], dtype='object')"
      ]
     },
     "execution_count": 33,
     "metadata": {},
     "output_type": "execute_result"
    }
   ],
   "source": [
    "# Les columes des données produits\n",
    "\n",
    "transaction.columns"
   ]
  },
  {
   "cell_type": "code",
   "execution_count": 34,
   "metadata": {},
   "outputs": [],
   "source": [
    "# Suppression des données ayant id_prod 'T_0'\n",
    "\n",
    "transaction = transaction.drop(transaction[transaction.id_prod.isin(['T_0'])].index)"
   ]
  },
  {
   "cell_type": "code",
   "execution_count": 35,
   "metadata": {},
   "outputs": [
    {
     "data": {
      "text/plain": [
       "0"
      ]
     },
     "execution_count": 35,
     "metadata": {},
     "output_type": "execute_result"
    }
   ],
   "source": [
    "# Vérification de suppression\n",
    "\n",
    "transaction.id_prod.isin(['T_0']).sum()"
   ]
  },
  {
   "cell_type": "code",
   "execution_count": 36,
   "metadata": {},
   "outputs": [
    {
     "data": {
      "text/plain": [
       "0"
      ]
     },
     "execution_count": 36,
     "metadata": {},
     "output_type": "execute_result"
    }
   ],
   "source": [
    "# Vérification s'il reste des transactions avec session_id 's_0'\n",
    "\n",
    "transaction.session_id.isin(['s_0']).sum()"
   ]
  },
  {
   "cell_type": "code",
   "execution_count": 37,
   "metadata": {},
   "outputs": [
    {
     "data": {
      "text/plain": [
       "0"
      ]
     },
     "execution_count": 37,
     "metadata": {},
     "output_type": "execute_result"
    }
   ],
   "source": [
    "# Vérification s'il reste des transactions avec client_id 'ct_0' et 'ct_1'\n",
    "\n",
    "transaction.client_id.isin(['ct_0','ct_1']).sum()"
   ]
  },
  {
   "cell_type": "code",
   "execution_count": 38,
   "metadata": {
    "scrolled": false
   },
   "outputs": [],
   "source": [
    "# Changement de type de la variable 'date'\n",
    "\n",
    "transaction['date'] = pd.to_datetime(transaction.date, format='%Y-%m-%d %H:%M:%S.%f')"
   ]
  },
  {
   "cell_type": "code",
   "execution_count": 39,
   "metadata": {},
   "outputs": [
    {
     "name": "stdout",
     "output_type": "stream",
     "text": [
      "<class 'pandas.core.frame.DataFrame'>\n",
      "Int64Index: 679332 entries, 0 to 679531\n",
      "Data columns (total 4 columns):\n",
      " #   Column      Non-Null Count   Dtype         \n",
      "---  ------      --------------   -----         \n",
      " 0   id_prod     679332 non-null  object        \n",
      " 1   date        679332 non-null  datetime64[ns]\n",
      " 2   session_id  679332 non-null  object        \n",
      " 3   client_id   679332 non-null  object        \n",
      "dtypes: datetime64[ns](1), object(3)\n",
      "memory usage: 25.9+ MB\n"
     ]
    }
   ],
   "source": [
    "# Aperçu des données\n",
    "\n",
    "transaction.info()"
   ]
  },
  {
   "cell_type": "markdown",
   "metadata": {},
   "source": [
    "<h2><span style = 'color:indianred'>3. Analyse des indicateurs de vente</span></h2>"
   ]
  },
  {
   "cell_type": "markdown",
   "metadata": {},
   "source": [
    "### Création de table transaction - produit"
   ]
  },
  {
   "cell_type": "code",
   "execution_count": 40,
   "metadata": {},
   "outputs": [
    {
     "data": {
      "text/plain": [
       "((679332, 4), (3286, 3))"
      ]
     },
     "execution_count": 40,
     "metadata": {},
     "output_type": "execute_result"
    }
   ],
   "source": [
    "transaction.shape, product.shape"
   ]
  },
  {
   "cell_type": "code",
   "execution_count": 41,
   "metadata": {
    "scrolled": true
   },
   "outputs": [
    {
     "data": {
      "text/html": [
       "<div>\n",
       "<style scoped>\n",
       "    .dataframe tbody tr th:only-of-type {\n",
       "        vertical-align: middle;\n",
       "    }\n",
       "\n",
       "    .dataframe tbody tr th {\n",
       "        vertical-align: top;\n",
       "    }\n",
       "\n",
       "    .dataframe thead th {\n",
       "        text-align: right;\n",
       "    }\n",
       "</style>\n",
       "<table border=\"1\" class=\"dataframe\">\n",
       "  <thead>\n",
       "    <tr style=\"text-align: right;\">\n",
       "      <th></th>\n",
       "      <th>id_prod</th>\n",
       "      <th>date</th>\n",
       "      <th>session_id</th>\n",
       "      <th>client_id</th>\n",
       "      <th>price</th>\n",
       "      <th>categ</th>\n",
       "    </tr>\n",
       "  </thead>\n",
       "  <tbody>\n",
       "    <tr>\n",
       "      <th>0</th>\n",
       "      <td>0_1518</td>\n",
       "      <td>2022-05-20 13:21:29.043970</td>\n",
       "      <td>s_211425</td>\n",
       "      <td>c_103</td>\n",
       "      <td>4.18</td>\n",
       "      <td>0.0</td>\n",
       "    </tr>\n",
       "    <tr>\n",
       "      <th>1</th>\n",
       "      <td>1_251</td>\n",
       "      <td>2022-02-02 07:55:19.149409</td>\n",
       "      <td>s_158752</td>\n",
       "      <td>c_8534</td>\n",
       "      <td>15.99</td>\n",
       "      <td>1.0</td>\n",
       "    </tr>\n",
       "    <tr>\n",
       "      <th>2</th>\n",
       "      <td>0_1277</td>\n",
       "      <td>2022-06-18 15:44:33.155329</td>\n",
       "      <td>s_225667</td>\n",
       "      <td>c_6714</td>\n",
       "      <td>7.99</td>\n",
       "      <td>0.0</td>\n",
       "    </tr>\n",
       "    <tr>\n",
       "      <th>3</th>\n",
       "      <td>2_209</td>\n",
       "      <td>2021-06-24 04:19:29.835891</td>\n",
       "      <td>s_52962</td>\n",
       "      <td>c_6941</td>\n",
       "      <td>69.99</td>\n",
       "      <td>2.0</td>\n",
       "    </tr>\n",
       "    <tr>\n",
       "      <th>4</th>\n",
       "      <td>0_1509</td>\n",
       "      <td>2023-01-11 08:22:08.194479</td>\n",
       "      <td>s_325227</td>\n",
       "      <td>c_4232</td>\n",
       "      <td>4.99</td>\n",
       "      <td>0.0</td>\n",
       "    </tr>\n",
       "  </tbody>\n",
       "</table>\n",
       "</div>"
      ],
      "text/plain": [
       "  id_prod                       date session_id client_id  price  categ\n",
       "0  0_1518 2022-05-20 13:21:29.043970   s_211425     c_103   4.18    0.0\n",
       "1   1_251 2022-02-02 07:55:19.149409   s_158752    c_8534  15.99    1.0\n",
       "2  0_1277 2022-06-18 15:44:33.155329   s_225667    c_6714   7.99    0.0\n",
       "3   2_209 2021-06-24 04:19:29.835891    s_52962    c_6941  69.99    2.0\n",
       "4  0_1509 2023-01-11 08:22:08.194479   s_325227    c_4232   4.99    0.0"
      ]
     },
     "execution_count": 41,
     "metadata": {},
     "output_type": "execute_result"
    }
   ],
   "source": [
    "# Fusion de table transaction et produit\n",
    "\n",
    "transaction_product = pd.merge(transaction, product, on = 'id_prod', how = \"left\")\n",
    "transaction_product.head()"
   ]
  },
  {
   "cell_type": "code",
   "execution_count": 42,
   "metadata": {},
   "outputs": [
    {
     "data": {
      "text/plain": [
       "(679332, 6)"
      ]
     },
     "execution_count": 42,
     "metadata": {},
     "output_type": "execute_result"
    }
   ],
   "source": [
    "transaction_product.shape"
   ]
  },
  {
   "cell_type": "code",
   "execution_count": 43,
   "metadata": {
    "scrolled": true
   },
   "outputs": [
    {
     "name": "stdout",
     "output_type": "stream",
     "text": [
      "<class 'pandas.core.frame.DataFrame'>\n",
      "Int64Index: 679332 entries, 0 to 679331\n",
      "Data columns (total 6 columns):\n",
      " #   Column      Non-Null Count   Dtype         \n",
      "---  ------      --------------   -----         \n",
      " 0   id_prod     679332 non-null  object        \n",
      " 1   date        679332 non-null  datetime64[ns]\n",
      " 2   session_id  679332 non-null  object        \n",
      " 3   client_id   679332 non-null  object        \n",
      " 4   price       679111 non-null  float64       \n",
      " 5   categ       679111 non-null  float64       \n",
      "dtypes: datetime64[ns](1), float64(2), object(3)\n",
      "memory usage: 36.3+ MB\n"
     ]
    }
   ],
   "source": [
    "# Information de table créée\n",
    "\n",
    "transaction_product.info()"
   ]
  },
  {
   "cell_type": "code",
   "execution_count": 44,
   "metadata": {
    "scrolled": false
   },
   "outputs": [
    {
     "data": {
      "text/html": [
       "<div>\n",
       "<style scoped>\n",
       "    .dataframe tbody tr th:only-of-type {\n",
       "        vertical-align: middle;\n",
       "    }\n",
       "\n",
       "    .dataframe tbody tr th {\n",
       "        vertical-align: top;\n",
       "    }\n",
       "\n",
       "    .dataframe thead th {\n",
       "        text-align: right;\n",
       "    }\n",
       "</style>\n",
       "<table border=\"1\" class=\"dataframe\">\n",
       "  <thead>\n",
       "    <tr style=\"text-align: right;\">\n",
       "      <th></th>\n",
       "      <th>id_prod</th>\n",
       "      <th>date</th>\n",
       "      <th>session_id</th>\n",
       "      <th>client_id</th>\n",
       "      <th>price</th>\n",
       "      <th>categ</th>\n",
       "    </tr>\n",
       "  </thead>\n",
       "  <tbody>\n",
       "    <tr>\n",
       "      <th>2633</th>\n",
       "      <td>0_2245</td>\n",
       "      <td>2022-09-23 07:22:38.636773</td>\n",
       "      <td>s_272266</td>\n",
       "      <td>c_4746</td>\n",
       "      <td>NaN</td>\n",
       "      <td>NaN</td>\n",
       "    </tr>\n",
       "    <tr>\n",
       "      <th>10103</th>\n",
       "      <td>0_2245</td>\n",
       "      <td>2022-07-23 09:24:14.133889</td>\n",
       "      <td>s_242482</td>\n",
       "      <td>c_6713</td>\n",
       "      <td>NaN</td>\n",
       "      <td>NaN</td>\n",
       "    </tr>\n",
       "    <tr>\n",
       "      <th>11723</th>\n",
       "      <td>0_2245</td>\n",
       "      <td>2022-12-03 03:26:35.696673</td>\n",
       "      <td>s_306338</td>\n",
       "      <td>c_5108</td>\n",
       "      <td>NaN</td>\n",
       "      <td>NaN</td>\n",
       "    </tr>\n",
       "    <tr>\n",
       "      <th>15670</th>\n",
       "      <td>0_2245</td>\n",
       "      <td>2021-08-16 11:33:25.481411</td>\n",
       "      <td>s_76493</td>\n",
       "      <td>c_1391</td>\n",
       "      <td>NaN</td>\n",
       "      <td>NaN</td>\n",
       "    </tr>\n",
       "    <tr>\n",
       "      <th>16372</th>\n",
       "      <td>0_2245</td>\n",
       "      <td>2022-07-16 05:53:01.627491</td>\n",
       "      <td>s_239078</td>\n",
       "      <td>c_7954</td>\n",
       "      <td>NaN</td>\n",
       "      <td>NaN</td>\n",
       "    </tr>\n",
       "    <tr>\n",
       "      <th>...</th>\n",
       "      <td>...</td>\n",
       "      <td>...</td>\n",
       "      <td>...</td>\n",
       "      <td>...</td>\n",
       "      <td>...</td>\n",
       "      <td>...</td>\n",
       "    </tr>\n",
       "    <tr>\n",
       "      <th>669533</th>\n",
       "      <td>0_2245</td>\n",
       "      <td>2021-08-25 09:06:03.504061</td>\n",
       "      <td>s_80395</td>\n",
       "      <td>c_131</td>\n",
       "      <td>NaN</td>\n",
       "      <td>NaN</td>\n",
       "    </tr>\n",
       "    <tr>\n",
       "      <th>670484</th>\n",
       "      <td>0_2245</td>\n",
       "      <td>2022-03-06 19:59:19.462288</td>\n",
       "      <td>s_175311</td>\n",
       "      <td>c_4167</td>\n",
       "      <td>NaN</td>\n",
       "      <td>NaN</td>\n",
       "    </tr>\n",
       "    <tr>\n",
       "      <th>671088</th>\n",
       "      <td>0_2245</td>\n",
       "      <td>2022-05-16 11:35:20.319501</td>\n",
       "      <td>s_209381</td>\n",
       "      <td>c_4453</td>\n",
       "      <td>NaN</td>\n",
       "      <td>NaN</td>\n",
       "    </tr>\n",
       "    <tr>\n",
       "      <th>675480</th>\n",
       "      <td>0_2245</td>\n",
       "      <td>2022-02-11 09:05:43.952857</td>\n",
       "      <td>s_163405</td>\n",
       "      <td>c_1098</td>\n",
       "      <td>NaN</td>\n",
       "      <td>NaN</td>\n",
       "    </tr>\n",
       "    <tr>\n",
       "      <th>677797</th>\n",
       "      <td>0_2245</td>\n",
       "      <td>2021-12-14 22:34:54.589921</td>\n",
       "      <td>s_134446</td>\n",
       "      <td>c_4854</td>\n",
       "      <td>NaN</td>\n",
       "      <td>NaN</td>\n",
       "    </tr>\n",
       "  </tbody>\n",
       "</table>\n",
       "<p>221 rows × 6 columns</p>\n",
       "</div>"
      ],
      "text/plain": [
       "       id_prod                       date session_id client_id  price  categ\n",
       "2633    0_2245 2022-09-23 07:22:38.636773   s_272266    c_4746    NaN    NaN\n",
       "10103   0_2245 2022-07-23 09:24:14.133889   s_242482    c_6713    NaN    NaN\n",
       "11723   0_2245 2022-12-03 03:26:35.696673   s_306338    c_5108    NaN    NaN\n",
       "15670   0_2245 2021-08-16 11:33:25.481411    s_76493    c_1391    NaN    NaN\n",
       "16372   0_2245 2022-07-16 05:53:01.627491   s_239078    c_7954    NaN    NaN\n",
       "...        ...                        ...        ...       ...    ...    ...\n",
       "669533  0_2245 2021-08-25 09:06:03.504061    s_80395     c_131    NaN    NaN\n",
       "670484  0_2245 2022-03-06 19:59:19.462288   s_175311    c_4167    NaN    NaN\n",
       "671088  0_2245 2022-05-16 11:35:20.319501   s_209381    c_4453    NaN    NaN\n",
       "675480  0_2245 2022-02-11 09:05:43.952857   s_163405    c_1098    NaN    NaN\n",
       "677797  0_2245 2021-12-14 22:34:54.589921   s_134446    c_4854    NaN    NaN\n",
       "\n",
       "[221 rows x 6 columns]"
      ]
     },
     "execution_count": 44,
     "metadata": {},
     "output_type": "execute_result"
    }
   ],
   "source": [
    "# Vérification des valeurs manquantes\n",
    "\n",
    "transaction_product[transaction_product['price'].isna()]"
   ]
  },
  {
   "cell_type": "code",
   "execution_count": 45,
   "metadata": {},
   "outputs": [
    {
     "data": {
      "text/html": [
       "<div>\n",
       "<style scoped>\n",
       "    .dataframe tbody tr th:only-of-type {\n",
       "        vertical-align: middle;\n",
       "    }\n",
       "\n",
       "    .dataframe tbody tr th {\n",
       "        vertical-align: top;\n",
       "    }\n",
       "\n",
       "    .dataframe thead th {\n",
       "        text-align: right;\n",
       "    }\n",
       "</style>\n",
       "<table border=\"1\" class=\"dataframe\">\n",
       "  <thead>\n",
       "    <tr style=\"text-align: right;\">\n",
       "      <th></th>\n",
       "      <th>date</th>\n",
       "      <th>session_id</th>\n",
       "      <th>client_id</th>\n",
       "      <th>price</th>\n",
       "      <th>categ</th>\n",
       "    </tr>\n",
       "    <tr>\n",
       "      <th>id_prod</th>\n",
       "      <th></th>\n",
       "      <th></th>\n",
       "      <th></th>\n",
       "      <th></th>\n",
       "      <th></th>\n",
       "    </tr>\n",
       "  </thead>\n",
       "  <tbody>\n",
       "    <tr>\n",
       "      <th>0_2245</th>\n",
       "      <td>221</td>\n",
       "      <td>221</td>\n",
       "      <td>221</td>\n",
       "      <td>0</td>\n",
       "      <td>0</td>\n",
       "    </tr>\n",
       "  </tbody>\n",
       "</table>\n",
       "</div>"
      ],
      "text/plain": [
       "         date  session_id  client_id  price  categ\n",
       "id_prod                                           \n",
       "0_2245    221         221        221      0      0"
      ]
     },
     "execution_count": 45,
     "metadata": {},
     "output_type": "execute_result"
    }
   ],
   "source": [
    "# id_prod des produits avec valeurs manquantes\n",
    "\n",
    "transaction_product[transaction_product['price'].isna()].groupby('id_prod').count()"
   ]
  },
  {
   "cell_type": "code",
   "execution_count": 46,
   "metadata": {},
   "outputs": [
    {
     "data": {
      "text/html": [
       "<div>\n",
       "<style scoped>\n",
       "    .dataframe tbody tr th:only-of-type {\n",
       "        vertical-align: middle;\n",
       "    }\n",
       "\n",
       "    .dataframe tbody tr th {\n",
       "        vertical-align: top;\n",
       "    }\n",
       "\n",
       "    .dataframe thead th {\n",
       "        text-align: right;\n",
       "    }\n",
       "</style>\n",
       "<table border=\"1\" class=\"dataframe\">\n",
       "  <thead>\n",
       "    <tr style=\"text-align: right;\">\n",
       "      <th></th>\n",
       "      <th>id_prod</th>\n",
       "      <th>price</th>\n",
       "      <th>categ</th>\n",
       "    </tr>\n",
       "  </thead>\n",
       "  <tbody>\n",
       "  </tbody>\n",
       "</table>\n",
       "</div>"
      ],
      "text/plain": [
       "Empty DataFrame\n",
       "Columns: [id_prod, price, categ]\n",
       "Index: []"
      ]
     },
     "execution_count": 46,
     "metadata": {},
     "output_type": "execute_result"
    }
   ],
   "source": [
    "# Vérification de produit '0_2245' dans la liste des produits\n",
    "\n",
    "product[product.id_prod == '0_2245']"
   ]
  },
  {
   "cell_type": "code",
   "execution_count": 47,
   "metadata": {
    "scrolled": false
   },
   "outputs": [
    {
     "name": "stdout",
     "output_type": "stream",
     "text": [
      "<class 'pandas.core.frame.DataFrame'>\n",
      "Int64Index: 679332 entries, 0 to 679331\n",
      "Data columns (total 6 columns):\n",
      " #   Column      Non-Null Count   Dtype         \n",
      "---  ------      --------------   -----         \n",
      " 0   id_prod     679332 non-null  object        \n",
      " 1   date        679332 non-null  datetime64[ns]\n",
      " 2   session_id  679332 non-null  object        \n",
      " 3   client_id   679332 non-null  object        \n",
      " 4   price       679332 non-null  float64       \n",
      " 5   categ       679332 non-null  float64       \n",
      "dtypes: datetime64[ns](1), float64(2), object(3)\n",
      "memory usage: 52.4+ MB\n"
     ]
    }
   ],
   "source": [
    "# Remplacement des valeurs manquantes\n",
    "\n",
    "moyen_categ_0 = round(transaction_product[transaction_product.categ == 0].price.mean(),2)\n",
    "\n",
    "transaction_product.loc[transaction_product[transaction_product.id_prod == '0_2245'].index, 'price'] = moyen_categ_0\n",
    "transaction_product.loc[transaction_product[transaction_product.id_prod == '0_2245'].index, 'categ'] = 0\n",
    "\n",
    "transaction_product.info()"
   ]
  },
  {
   "cell_type": "markdown",
   "metadata": {},
   "source": [
    "### Indicateurs chiffre d'affaires"
   ]
  },
  {
   "cell_type": "code",
   "execution_count": 48,
   "metadata": {
    "scrolled": false
   },
   "outputs": [
    {
     "data": {
      "text/html": [
       "<div>\n",
       "<style scoped>\n",
       "    .dataframe tbody tr th:only-of-type {\n",
       "        vertical-align: middle;\n",
       "    }\n",
       "\n",
       "    .dataframe tbody tr th {\n",
       "        vertical-align: top;\n",
       "    }\n",
       "\n",
       "    .dataframe thead th {\n",
       "        text-align: right;\n",
       "    }\n",
       "</style>\n",
       "<table border=\"1\" class=\"dataframe\">\n",
       "  <thead>\n",
       "    <tr style=\"text-align: right;\">\n",
       "      <th></th>\n",
       "      <th>id_prod</th>\n",
       "      <th>date</th>\n",
       "      <th>session_id</th>\n",
       "      <th>client_id</th>\n",
       "      <th>price</th>\n",
       "      <th>categ</th>\n",
       "    </tr>\n",
       "  </thead>\n",
       "  <tbody>\n",
       "    <tr>\n",
       "      <th>0</th>\n",
       "      <td>0_1518</td>\n",
       "      <td>2022-05-20 13:21:29.043970</td>\n",
       "      <td>s_211425</td>\n",
       "      <td>c_103</td>\n",
       "      <td>4.18</td>\n",
       "      <td>0.0</td>\n",
       "    </tr>\n",
       "    <tr>\n",
       "      <th>1</th>\n",
       "      <td>1_251</td>\n",
       "      <td>2022-02-02 07:55:19.149409</td>\n",
       "      <td>s_158752</td>\n",
       "      <td>c_8534</td>\n",
       "      <td>15.99</td>\n",
       "      <td>1.0</td>\n",
       "    </tr>\n",
       "    <tr>\n",
       "      <th>2</th>\n",
       "      <td>0_1277</td>\n",
       "      <td>2022-06-18 15:44:33.155329</td>\n",
       "      <td>s_225667</td>\n",
       "      <td>c_6714</td>\n",
       "      <td>7.99</td>\n",
       "      <td>0.0</td>\n",
       "    </tr>\n",
       "    <tr>\n",
       "      <th>3</th>\n",
       "      <td>2_209</td>\n",
       "      <td>2021-06-24 04:19:29.835891</td>\n",
       "      <td>s_52962</td>\n",
       "      <td>c_6941</td>\n",
       "      <td>69.99</td>\n",
       "      <td>2.0</td>\n",
       "    </tr>\n",
       "    <tr>\n",
       "      <th>4</th>\n",
       "      <td>0_1509</td>\n",
       "      <td>2023-01-11 08:22:08.194479</td>\n",
       "      <td>s_325227</td>\n",
       "      <td>c_4232</td>\n",
       "      <td>4.99</td>\n",
       "      <td>0.0</td>\n",
       "    </tr>\n",
       "  </tbody>\n",
       "</table>\n",
       "</div>"
      ],
      "text/plain": [
       "  id_prod                       date session_id client_id  price  categ\n",
       "0  0_1518 2022-05-20 13:21:29.043970   s_211425     c_103   4.18    0.0\n",
       "1   1_251 2022-02-02 07:55:19.149409   s_158752    c_8534  15.99    1.0\n",
       "2  0_1277 2022-06-18 15:44:33.155329   s_225667    c_6714   7.99    0.0\n",
       "3   2_209 2021-06-24 04:19:29.835891    s_52962    c_6941  69.99    2.0\n",
       "4  0_1509 2023-01-11 08:22:08.194479   s_325227    c_4232   4.99    0.0"
      ]
     },
     "execution_count": 48,
     "metadata": {},
     "output_type": "execute_result"
    }
   ],
   "source": [
    "# Aperçu des données\n",
    "\n",
    "transaction_product.head()"
   ]
  },
  {
   "cell_type": "code",
   "execution_count": 49,
   "metadata": {},
   "outputs": [
    {
     "name": "stdout",
     "output_type": "stream",
     "text": [
      "Le chiffre d'affaires global des ventes en ligne des deux dernières années est de 11856080 euros\n"
     ]
    }
   ],
   "source": [
    "# Chiffre d'affaire global\n",
    "\n",
    "ca_total = int(transaction_product.price.sum())\n",
    "\n",
    "print(\"Le chiffre d'affaires global des ventes en ligne des deux dernières années est de {} euros\"\n",
    "      .format(ca_total))"
   ]
  },
  {
   "cell_type": "code",
   "execution_count": 50,
   "metadata": {
    "scrolled": false
   },
   "outputs": [
    {
     "data": {
      "text/html": [
       "<div>\n",
       "<style scoped>\n",
       "    .dataframe tbody tr th:only-of-type {\n",
       "        vertical-align: middle;\n",
       "    }\n",
       "\n",
       "    .dataframe tbody tr th {\n",
       "        vertical-align: top;\n",
       "    }\n",
       "\n",
       "    .dataframe thead th {\n",
       "        text-align: right;\n",
       "    }\n",
       "</style>\n",
       "<table border=\"1\" class=\"dataframe\">\n",
       "  <thead>\n",
       "    <tr style=\"text-align: right;\">\n",
       "      <th></th>\n",
       "      <th>year</th>\n",
       "      <th>price</th>\n",
       "    </tr>\n",
       "  </thead>\n",
       "  <tbody>\n",
       "    <tr>\n",
       "      <th>0</th>\n",
       "      <td>2021-2022</td>\n",
       "      <td>5832832.97</td>\n",
       "    </tr>\n",
       "    <tr>\n",
       "      <th>1</th>\n",
       "      <td>2022-2023</td>\n",
       "      <td>6023247.15</td>\n",
       "    </tr>\n",
       "  </tbody>\n",
       "</table>\n",
       "</div>"
      ],
      "text/plain": [
       "        year       price\n",
       "0  2021-2022  5832832.97\n",
       "1  2022-2023  6023247.15"
      ]
     },
     "execution_count": 50,
     "metadata": {},
     "output_type": "execute_result"
    }
   ],
   "source": [
    "# Chiffre d'affaires annuels\n",
    "\n",
    "import datetime\n",
    "\n",
    "sales_year = transaction_product[['date','price']].groupby(pd.Grouper(key = 'date', freq = \"m\")).sum('price').reset_index()\n",
    "sales_year['year'] = pd.cut(sales_year.date, labels = ['2021-2022', '2022-2023'],\n",
    "                            bins = [datetime.datetime.strptime(\"2021-02-28\", \"%Y-%m-%d\"),\n",
    "                                    datetime.datetime.strptime(\"2022-02-28\", \"%Y-%m-%d\"),\n",
    "                                    datetime.datetime.strptime(\"2023-02-28\", \"%Y-%m-%d\")])\n",
    "sales_year = sales_year[['year', 'price']].groupby('year').sum('price').reset_index()\n",
    "sales_year.head()"
   ]
  },
  {
   "cell_type": "markdown",
   "metadata": {},
   "source": [
    "<div class = 'alert alert-info'> \n",
    "    L'année 2021-2022 correspond à la période de mars 2021 - février 2022. L'année 2022-2023 correspond à la période de mars 2022 - février 2023.\n",
    "</div>"
   ]
  },
  {
   "cell_type": "code",
   "execution_count": 51,
   "metadata": {
    "scrolled": false
   },
   "outputs": [
    {
     "name": "stdout",
     "output_type": "stream",
     "text": [
      "Le chiffre d'affaire a augmenté de 3.26% en 2022-2023 par rapport à l'année précédante.\n"
     ]
    },
    {
     "data": {
      "image/png": "[encoded data removed]",
      "text/plain": [
       "<Figure size 576x360 with 1 Axes>"
      ]
     },
     "metadata": {
      "needs_background": "light"
     },
     "output_type": "display_data"
    }
   ],
   "source": [
    "# Visualisation\n",
    "\n",
    "\n",
    "plt.figure(figsize = (8,5))\n",
    "plt.grid(axis = 'y', alpha = 0.5, ls ='--')\n",
    "plt.box(False)\n",
    "plt.tick_params(bottom=False, left=False)\n",
    "\n",
    "plt.bar(sales_year.year, sales_year.price, width = 0.5)\n",
    "\n",
    "plt.text(-0.12,5900000,round(sales_year.price[0],0),fontsize=12)\n",
    "plt.text(0.87,6070000,round(sales_year.price[1],0),fontsize=12)\n",
    "\n",
    "plt.xlabel('Year')\n",
    "plt.ylabel('Turnover')\n",
    "plt.ylim(0, 7000000)\n",
    "plt.xlim(-0.5,1.5)\n",
    "plt.title(\"Chiffre d'affaires annuel\", fontweight = 'bold');\n",
    "\n",
    "print(\"Le chiffre d'affaire a augmenté de {}% en 2022-2023 par rapport à l'année précédante.\"\n",
    "      .format(round((sales_year.price[1]-sales_year.price[0])*100/sales_year.price[0],2)))"
   ]
  },
  {
   "cell_type": "markdown",
   "metadata": {},
   "source": [
    "### Évolution du chiffre d'affaires"
   ]
  },
  {
   "cell_type": "code",
   "execution_count": 52,
   "metadata": {
    "scrolled": true
   },
   "outputs": [
    {
     "data": {
      "text/html": [
       "<div>\n",
       "<style scoped>\n",
       "    .dataframe tbody tr th:only-of-type {\n",
       "        vertical-align: middle;\n",
       "    }\n",
       "\n",
       "    .dataframe tbody tr th {\n",
       "        vertical-align: top;\n",
       "    }\n",
       "\n",
       "    .dataframe thead th {\n",
       "        text-align: right;\n",
       "    }\n",
       "</style>\n",
       "<table border=\"1\" class=\"dataframe\">\n",
       "  <thead>\n",
       "    <tr style=\"text-align: right;\">\n",
       "      <th></th>\n",
       "      <th>date</th>\n",
       "      <th>price</th>\n",
       "      <th>session_id</th>\n",
       "    </tr>\n",
       "  </thead>\n",
       "  <tbody>\n",
       "    <tr>\n",
       "      <th>0</th>\n",
       "      <td>2021-03-31</td>\n",
       "      <td>482536.37</td>\n",
       "      <td>28610</td>\n",
       "    </tr>\n",
       "    <tr>\n",
       "      <th>1</th>\n",
       "      <td>2021-04-30</td>\n",
       "      <td>476258.26</td>\n",
       "      <td>28457</td>\n",
       "    </tr>\n",
       "    <tr>\n",
       "      <th>2</th>\n",
       "      <td>2021-05-31</td>\n",
       "      <td>493028.59</td>\n",
       "      <td>28293</td>\n",
       "    </tr>\n",
       "    <tr>\n",
       "      <th>3</th>\n",
       "      <td>2021-06-30</td>\n",
       "      <td>484163.04</td>\n",
       "      <td>26857</td>\n",
       "    </tr>\n",
       "    <tr>\n",
       "      <th>4</th>\n",
       "      <td>2021-07-31</td>\n",
       "      <td>482877.96</td>\n",
       "      <td>24742</td>\n",
       "    </tr>\n",
       "  </tbody>\n",
       "</table>\n",
       "</div>"
      ],
      "text/plain": [
       "        date      price  session_id\n",
       "0 2021-03-31  482536.37       28610\n",
       "1 2021-04-30  476258.26       28457\n",
       "2 2021-05-31  493028.59       28293\n",
       "3 2021-06-30  484163.04       26857\n",
       "4 2021-07-31  482877.96       24742"
      ]
     },
     "execution_count": 52,
     "metadata": {},
     "output_type": "execute_result"
    }
   ],
   "source": [
    "# Chiffre d'affaires mensuel\n",
    "\n",
    "sales_month = transaction_product[['date','price','session_id']].groupby(pd.Grouper(key = 'date', freq = \"m\")).agg({'price':sum, 'session_id': 'count'}).reset_index()\n",
    "sales_month.head()"
   ]
  },
  {
   "cell_type": "code",
   "execution_count": 53,
   "metadata": {
    "scrolled": false
   },
   "outputs": [
    {
     "name": "stdout",
     "output_type": "stream",
     "text": [
      "Le chiffre d'affaire semble stable avec une chute visible en octobre 2021 qui s'est vite remédiée dès le mois suivant. Il y a eu une chute apparente au dernier mois.\n"
     ]
    },
    {
     "data": {
      "image/png": "[encoded data removed]",
      "text/plain": [
       "<Figure size 1008x576 with 2 Axes>"
      ]
     },
     "metadata": {
      "needs_background": "light"
     },
     "output_type": "display_data"
    }
   ],
   "source": [
    "# Visualisation de chiffre d'affaires mensuel\n",
    "\n",
    "fig = plt.figure(figsize=(14,8))\n",
    "\n",
    "\n",
    "ax1 = fig.add_subplot(111)\n",
    "ax1.spines.top.set_visible(False)\n",
    "ax1.spines.bottom.set_visible(False)\n",
    "ax1.spines.left.set_visible(False)\n",
    "ax1.spines.right.set_visible(False)\n",
    "ax1.grid('whitegrid')\n",
    "xtick = sales_month['date'].apply(lambda x: x.strftime('%Y-%m')) \n",
    "ax1.xaxis.set_ticks_position('none') \n",
    "ax1.yaxis.set_ticks_position('none') \n",
    "\n",
    "ax1.plot(sales_month.date, sales_month.price, color = 'orange', label =\"chiffre d'affaire\")\n",
    "\n",
    "ax1.set_yticks(np.arange(300000, 600000, 50000))\n",
    "ax1.set_ylabel(\"EUR\", color = \"orange\")\n",
    "ax1.set_xticks(sales_month['date'])\n",
    "ax1.set_xticklabels(xtick, rotation = 45)\n",
    "ax1.set_xlim(sales_month['date'][0],sales_month['date'][23])\n",
    "\n",
    "\n",
    "ax2 = ax1.twinx()\n",
    "ax2.spines.top.set_visible(False)\n",
    "ax2.spines.bottom.set_visible(False)\n",
    "ax2.spines.left.set_visible(False)\n",
    "ax2.spines.right.set_visible(False)\n",
    "\n",
    "ax2.plot(sales_month.date, sales_month.session_id, color = 'green', ls ='--', alpha = 0.6)\n",
    "ax1.plot(np.nan, color = 'green', label =\"nombre de ventes\", ls ='--')\n",
    "ax1.legend()\n",
    "\n",
    "ax2.set_yticks(np.arange(20000, 40000, 5000))\n",
    "ax2.set_ylabel(\"Nombre de ventes\", rotation = 270, color ='green')\n",
    "ax2.yaxis.set_ticks_position('none') \n",
    "\n",
    "\n",
    "plt.title(\"Évolution de ventes\", fontsize = 13, fontweight = 'bold');\n",
    "\n",
    "print(\"Le chiffre d'affaire semble stable avec une chute visible en octobre 2021 qui s'est vite remédiée dès le mois suivant. Il y a eu une chute apparente au dernier mois.\")"
   ]
  },
  {
   "cell_type": "code",
   "execution_count": 54,
   "metadata": {},
   "outputs": [
    {
     "data": {
      "text/html": [
       "<div>\n",
       "<style scoped>\n",
       "    .dataframe tbody tr th:only-of-type {\n",
       "        vertical-align: middle;\n",
       "    }\n",
       "\n",
       "    .dataframe tbody tr th {\n",
       "        vertical-align: top;\n",
       "    }\n",
       "\n",
       "    .dataframe thead th {\n",
       "        text-align: right;\n",
       "    }\n",
       "</style>\n",
       "<table border=\"1\" class=\"dataframe\">\n",
       "  <thead>\n",
       "    <tr style=\"text-align: right;\">\n",
       "      <th></th>\n",
       "      <th>date</th>\n",
       "      <th>price</th>\n",
       "      <th>session_id</th>\n",
       "      <th>moving_average</th>\n",
       "    </tr>\n",
       "  </thead>\n",
       "  <tbody>\n",
       "    <tr>\n",
       "      <th>0</th>\n",
       "      <td>2021-03-31</td>\n",
       "      <td>482536.37</td>\n",
       "      <td>28610</td>\n",
       "      <td>NaN</td>\n",
       "    </tr>\n",
       "    <tr>\n",
       "      <th>1</th>\n",
       "      <td>2021-04-30</td>\n",
       "      <td>476258.26</td>\n",
       "      <td>28457</td>\n",
       "      <td>NaN</td>\n",
       "    </tr>\n",
       "    <tr>\n",
       "      <th>2</th>\n",
       "      <td>2021-05-31</td>\n",
       "      <td>493028.59</td>\n",
       "      <td>28293</td>\n",
       "      <td>483941.073333</td>\n",
       "    </tr>\n",
       "    <tr>\n",
       "      <th>3</th>\n",
       "      <td>2021-06-30</td>\n",
       "      <td>484163.04</td>\n",
       "      <td>26857</td>\n",
       "      <td>484483.296667</td>\n",
       "    </tr>\n",
       "    <tr>\n",
       "      <th>4</th>\n",
       "      <td>2021-07-31</td>\n",
       "      <td>482877.96</td>\n",
       "      <td>24742</td>\n",
       "      <td>486689.863333</td>\n",
       "    </tr>\n",
       "  </tbody>\n",
       "</table>\n",
       "</div>"
      ],
      "text/plain": [
       "        date      price  session_id  moving_average\n",
       "0 2021-03-31  482536.37       28610             NaN\n",
       "1 2021-04-30  476258.26       28457             NaN\n",
       "2 2021-05-31  493028.59       28293   483941.073333\n",
       "3 2021-06-30  484163.04       26857   484483.296667\n",
       "4 2021-07-31  482877.96       24742   486689.863333"
      ]
     },
     "execution_count": 54,
     "metadata": {},
     "output_type": "execute_result"
    }
   ],
   "source": [
    "# Moyenne mobile\n",
    "\n",
    "sales_month['moving_average'] = sales_month.loc[:,'price'].rolling(window = 3).mean()\n",
    "sales_month.head()"
   ]
  },
  {
   "cell_type": "code",
   "execution_count": 55,
   "metadata": {},
   "outputs": [
    {
     "name": "stdout",
     "output_type": "stream",
     "text": [
      "Le chiffre d'affaire est en tendance à la baisse progressive depuis janvier 2022.\n"
     ]
    },
    {
     "data": {
      "image/png": "[encoded data removed]",
      "text/plain": [
       "<Figure size 1008x576 with 1 Axes>"
      ]
     },
     "metadata": {
      "needs_background": "light"
     },
     "output_type": "display_data"
    }
   ],
   "source": [
    "# Visualisation\n",
    "\n",
    "plt.figure(figsize=(14,8))\n",
    "plt.grid('whitegrid', color ='gray', alpha = 0.3)\n",
    "\n",
    "plt.plot(sales_month.date, sales_month.price, ls = '--', color = 'gold', label = \"Chiffre d'affaire\")\n",
    "plt.plot(sales_month.date, sales_month.moving_average, color = 'red', label = 'moyenne mobile')\n",
    "\n",
    "plt.box(False)\n",
    "plt.tick_params(bottom=False, left=False)\n",
    "plt.xticks(sales_month.date, rotation = 45)\n",
    "plt.legend()\n",
    "plt.title(\"Chiffre d'affaire en moyenne mobile\", fontweight = 'bold');\n",
    "\n",
    "print(\"Le chiffre d'affaire est en tendance à la baisse progressive depuis janvier 2022.\")"
   ]
  },
  {
   "cell_type": "markdown",
   "metadata": {},
   "source": [
    "### Chiffre d'affaires par catégorie"
   ]
  },
  {
   "cell_type": "code",
   "execution_count": 56,
   "metadata": {
    "scrolled": false
   },
   "outputs": [
    {
     "data": {
      "text/html": [
       "<div>\n",
       "<style scoped>\n",
       "    .dataframe tbody tr th:only-of-type {\n",
       "        vertical-align: middle;\n",
       "    }\n",
       "\n",
       "    .dataframe tbody tr th {\n",
       "        vertical-align: top;\n",
       "    }\n",
       "\n",
       "    .dataframe thead th {\n",
       "        text-align: right;\n",
       "    }\n",
       "</style>\n",
       "<table border=\"1\" class=\"dataframe\">\n",
       "  <thead>\n",
       "    <tr style=\"text-align: right;\">\n",
       "      <th></th>\n",
       "      <th>date</th>\n",
       "      <th>categ</th>\n",
       "      <th>id_prod</th>\n",
       "      <th>price</th>\n",
       "    </tr>\n",
       "  </thead>\n",
       "  <tbody>\n",
       "    <tr>\n",
       "      <th>0</th>\n",
       "      <td>2021-03-31</td>\n",
       "      <td>0.0</td>\n",
       "      <td>0_0</td>\n",
       "      <td>150.00</td>\n",
       "    </tr>\n",
       "    <tr>\n",
       "      <th>1</th>\n",
       "      <td>2021-03-31</td>\n",
       "      <td>0.0</td>\n",
       "      <td>0_1</td>\n",
       "      <td>186.83</td>\n",
       "    </tr>\n",
       "    <tr>\n",
       "      <th>2</th>\n",
       "      <td>2021-03-31</td>\n",
       "      <td>0.0</td>\n",
       "      <td>0_10</td>\n",
       "      <td>35.90</td>\n",
       "    </tr>\n",
       "    <tr>\n",
       "      <th>3</th>\n",
       "      <td>2021-03-31</td>\n",
       "      <td>0.0</td>\n",
       "      <td>0_1000</td>\n",
       "      <td>129.96</td>\n",
       "    </tr>\n",
       "    <tr>\n",
       "      <th>4</th>\n",
       "      <td>2021-03-31</td>\n",
       "      <td>0.0</td>\n",
       "      <td>0_1001</td>\n",
       "      <td>104.79</td>\n",
       "    </tr>\n",
       "  </tbody>\n",
       "</table>\n",
       "</div>"
      ],
      "text/plain": [
       "        date  categ id_prod   price\n",
       "0 2021-03-31    0.0     0_0  150.00\n",
       "1 2021-03-31    0.0     0_1  186.83\n",
       "2 2021-03-31    0.0    0_10   35.90\n",
       "3 2021-03-31    0.0  0_1000  129.96\n",
       "4 2021-03-31    0.0  0_1001  104.79"
      ]
     },
     "execution_count": 56,
     "metadata": {},
     "output_type": "execute_result"
    }
   ],
   "source": [
    "# Chiffre d'affaires categorie\n",
    "\n",
    "sales_category = transaction_product[['date','price','categ','id_prod']].groupby([pd.Grouper(key = 'date', freq = \"m\"),'categ','id_prod']).sum('price').reset_index()\n",
    "sales_category.head()"
   ]
  },
  {
   "cell_type": "code",
   "execution_count": 57,
   "metadata": {
    "scrolled": false
   },
   "outputs": [
    {
     "name": "stdout",
     "output_type": "stream",
     "text": [
      "Les proportions de chaque catégorie sont à peu près homogènes avec la catégorie 2 visiblement minoritaire de 13-15% par rapport à deux autres.\n"
     ]
    },
    {
     "data": {
      "image/png": "[encoded data removed]",
      "text/plain": [
       "<Figure size 576x576 with 1 Axes>"
      ]
     },
     "metadata": {},
     "output_type": "display_data"
    }
   ],
   "source": [
    "# Visualisation\n",
    "\n",
    "sales_category_prop = sales_category[['categ','price']].groupby('categ').sum('price').reset_index()\n",
    "\n",
    "plt.figure(figsize = (8,8))\n",
    "plt.pie(sales_category_prop.price, labels = sales_category_prop.categ, colors = sns.set_palette('Set2'), \n",
    "        autopct = '%.2f%%')\n",
    "plt.title(\"Part de chiffre d'affaires par catégorie\", fontsize = 14);\n",
    "\n",
    "print('Les proportions de chaque catégorie sont à peu près homogènes avec la catégorie 2 visiblement minoritaire de 13-15% par rapport à deux autres.')"
   ]
  },
  {
   "cell_type": "code",
   "execution_count": 58,
   "metadata": {},
   "outputs": [
    {
     "data": {
      "text/html": [
       "<div>\n",
       "<style scoped>\n",
       "    .dataframe tbody tr th:only-of-type {\n",
       "        vertical-align: middle;\n",
       "    }\n",
       "\n",
       "    .dataframe tbody tr th {\n",
       "        vertical-align: top;\n",
       "    }\n",
       "\n",
       "    .dataframe thead tr th {\n",
       "        text-align: left;\n",
       "    }\n",
       "\n",
       "    .dataframe thead tr:last-of-type th {\n",
       "        text-align: right;\n",
       "    }\n",
       "</style>\n",
       "<table border=\"1\" class=\"dataframe\">\n",
       "  <thead>\n",
       "    <tr>\n",
       "      <th></th>\n",
       "      <th colspan=\"3\" halign=\"left\">price</th>\n",
       "    </tr>\n",
       "    <tr>\n",
       "      <th>categ</th>\n",
       "      <th>0.0</th>\n",
       "      <th>1.0</th>\n",
       "      <th>2.0</th>\n",
       "    </tr>\n",
       "    <tr>\n",
       "      <th>date</th>\n",
       "      <th></th>\n",
       "      <th></th>\n",
       "      <th></th>\n",
       "    </tr>\n",
       "  </thead>\n",
       "  <tbody>\n",
       "    <tr>\n",
       "      <th>2021-03-31</th>\n",
       "      <td>193724.93</td>\n",
       "      <td>186974.17</td>\n",
       "      <td>101837.27</td>\n",
       "    </tr>\n",
       "    <tr>\n",
       "      <th>2021-04-30</th>\n",
       "      <td>205371.42</td>\n",
       "      <td>156138.35</td>\n",
       "      <td>114748.49</td>\n",
       "    </tr>\n",
       "    <tr>\n",
       "      <th>2021-05-31</th>\n",
       "      <td>196271.84</td>\n",
       "      <td>165893.40</td>\n",
       "      <td>130863.35</td>\n",
       "    </tr>\n",
       "    <tr>\n",
       "      <th>2021-06-30</th>\n",
       "      <td>168017.63</td>\n",
       "      <td>189162.04</td>\n",
       "      <td>126983.37</td>\n",
       "    </tr>\n",
       "    <tr>\n",
       "      <th>2021-07-31</th>\n",
       "      <td>144793.35</td>\n",
       "      <td>188523.27</td>\n",
       "      <td>149561.34</td>\n",
       "    </tr>\n",
       "  </tbody>\n",
       "</table>\n",
       "</div>"
      ],
      "text/plain": [
       "                price                      \n",
       "categ             0.0        1.0        2.0\n",
       "date                                       \n",
       "2021-03-31  193724.93  186974.17  101837.27\n",
       "2021-04-30  205371.42  156138.35  114748.49\n",
       "2021-05-31  196271.84  165893.40  130863.35\n",
       "2021-06-30  168017.63  189162.04  126983.37\n",
       "2021-07-31  144793.35  188523.27  149561.34"
      ]
     },
     "execution_count": 58,
     "metadata": {},
     "output_type": "execute_result"
    }
   ],
   "source": [
    "# Évolution du chiffre d'affaires par categorie \n",
    "\n",
    "sales_category_pivot = pd.pivot_table(data = sales_category[['date','categ','price']].groupby(['date','categ']).sum('price').reset_index(), \n",
    "                                      columns = 'categ', index = 'date')\n",
    "sales_category_pivot.head()"
   ]
  },
  {
   "cell_type": "code",
   "execution_count": 59,
   "metadata": {
    "scrolled": false
   },
   "outputs": [
    {
     "name": "stdout",
     "output_type": "stream",
     "text": [
      "Il y a une chute significative du chiffre d'affaire de la catégorie 1 au mois d'octobre 2021.\n"
     ]
    },
    {
     "data": {
      "image/png": "[encoded data removed]",
      "text/plain": [
       "<Figure size 1080x576 with 1 Axes>"
      ]
     },
     "metadata": {
      "needs_background": "light"
     },
     "output_type": "display_data"
    }
   ],
   "source": [
    "# Visualisation\n",
    "\n",
    "plt.figure(figsize = (15,8))\n",
    "plt.grid(axis = 'y', color='silver', linewidth = 0.5)\n",
    "\n",
    "plt.bar(sales_category_pivot.index, sales_category_pivot.price[0], width = 25, align = 'center', label = 'Catégorie 0')\n",
    "plt.bar(sales_category_pivot.index, sales_category_pivot.price[1], width = 25, align = 'center', \n",
    "        bottom = sales_category_pivot.price[0], label = 'Catégorie 1')\n",
    "plt.bar(sales_category_pivot.index, sales_category_pivot.price[2], width = 25, align = 'center', \n",
    "        bottom = sales_category_pivot.price[0]+sales_category_pivot.price[1], label = 'Catégorie 2')\n",
    "\n",
    "plt.box(False)\n",
    "plt.xticks(sales_category_pivot.index, rotation=90)\n",
    "plt.tick_params(bottom=False, left=False)\n",
    "plt.title(\"Chiffre d'affaires par catégorie\")\n",
    "plt.legend();\n",
    "\n",
    "print(\"Il y a une chute significative du chiffre d'affaire de la catégorie 1 au mois d'octobre 2021.\")"
   ]
  },
  {
   "cell_type": "markdown",
   "metadata": {},
   "source": [
    "### Zoom sur octobre 2021"
   ]
  },
  {
   "cell_type": "code",
   "execution_count": 60,
   "metadata": {},
   "outputs": [
    {
     "data": {
      "text/html": [
       "<div>\n",
       "<style scoped>\n",
       "    .dataframe tbody tr th:only-of-type {\n",
       "        vertical-align: middle;\n",
       "    }\n",
       "\n",
       "    .dataframe tbody tr th {\n",
       "        vertical-align: top;\n",
       "    }\n",
       "\n",
       "    .dataframe thead tr th {\n",
       "        text-align: left;\n",
       "    }\n",
       "\n",
       "    .dataframe thead tr:last-of-type th {\n",
       "        text-align: right;\n",
       "    }\n",
       "</style>\n",
       "<table border=\"1\" class=\"dataframe\">\n",
       "  <thead>\n",
       "    <tr>\n",
       "      <th></th>\n",
       "      <th colspan=\"3\" halign=\"left\">client_id</th>\n",
       "      <th colspan=\"3\" halign=\"left\">id_prod</th>\n",
       "      <th colspan=\"3\" halign=\"left\">price</th>\n",
       "      <th colspan=\"3\" halign=\"left\">session_id</th>\n",
       "    </tr>\n",
       "    <tr>\n",
       "      <th>categ</th>\n",
       "      <th>0.0</th>\n",
       "      <th>1.0</th>\n",
       "      <th>2.0</th>\n",
       "      <th>0.0</th>\n",
       "      <th>1.0</th>\n",
       "      <th>2.0</th>\n",
       "      <th>0.0</th>\n",
       "      <th>1.0</th>\n",
       "      <th>2.0</th>\n",
       "      <th>0.0</th>\n",
       "      <th>1.0</th>\n",
       "      <th>2.0</th>\n",
       "    </tr>\n",
       "    <tr>\n",
       "      <th>date</th>\n",
       "      <th></th>\n",
       "      <th></th>\n",
       "      <th></th>\n",
       "      <th></th>\n",
       "      <th></th>\n",
       "      <th></th>\n",
       "      <th></th>\n",
       "      <th></th>\n",
       "      <th></th>\n",
       "      <th></th>\n",
       "      <th></th>\n",
       "      <th></th>\n",
       "    </tr>\n",
       "  </thead>\n",
       "  <tbody>\n",
       "    <tr>\n",
       "      <th>2021-09-30</th>\n",
       "      <td>950.0</td>\n",
       "      <td>342.0</td>\n",
       "      <td>19.0</td>\n",
       "      <td>950.0</td>\n",
       "      <td>342.0</td>\n",
       "      <td>19.0</td>\n",
       "      <td>950.0</td>\n",
       "      <td>342.0</td>\n",
       "      <td>19.0</td>\n",
       "      <td>950.0</td>\n",
       "      <td>342.0</td>\n",
       "      <td>19.0</td>\n",
       "    </tr>\n",
       "    <tr>\n",
       "      <th>2021-10-01</th>\n",
       "      <td>663.0</td>\n",
       "      <td>344.0</td>\n",
       "      <td>38.0</td>\n",
       "      <td>663.0</td>\n",
       "      <td>344.0</td>\n",
       "      <td>38.0</td>\n",
       "      <td>663.0</td>\n",
       "      <td>344.0</td>\n",
       "      <td>38.0</td>\n",
       "      <td>663.0</td>\n",
       "      <td>344.0</td>\n",
       "      <td>38.0</td>\n",
       "    </tr>\n",
       "    <tr>\n",
       "      <th>2021-10-02</th>\n",
       "      <td>661.0</td>\n",
       "      <td>NaN</td>\n",
       "      <td>28.0</td>\n",
       "      <td>661.0</td>\n",
       "      <td>NaN</td>\n",
       "      <td>28.0</td>\n",
       "      <td>661.0</td>\n",
       "      <td>NaN</td>\n",
       "      <td>28.0</td>\n",
       "      <td>661.0</td>\n",
       "      <td>NaN</td>\n",
       "      <td>28.0</td>\n",
       "    </tr>\n",
       "    <tr>\n",
       "      <th>2021-10-03</th>\n",
       "      <td>648.0</td>\n",
       "      <td>NaN</td>\n",
       "      <td>31.0</td>\n",
       "      <td>648.0</td>\n",
       "      <td>NaN</td>\n",
       "      <td>31.0</td>\n",
       "      <td>648.0</td>\n",
       "      <td>NaN</td>\n",
       "      <td>31.0</td>\n",
       "      <td>648.0</td>\n",
       "      <td>NaN</td>\n",
       "      <td>31.0</td>\n",
       "    </tr>\n",
       "    <tr>\n",
       "      <th>2021-10-04</th>\n",
       "      <td>603.0</td>\n",
       "      <td>NaN</td>\n",
       "      <td>38.0</td>\n",
       "      <td>603.0</td>\n",
       "      <td>NaN</td>\n",
       "      <td>38.0</td>\n",
       "      <td>603.0</td>\n",
       "      <td>NaN</td>\n",
       "      <td>38.0</td>\n",
       "      <td>603.0</td>\n",
       "      <td>NaN</td>\n",
       "      <td>38.0</td>\n",
       "    </tr>\n",
       "  </tbody>\n",
       "</table>\n",
       "</div>"
      ],
      "text/plain": [
       "           client_id              id_prod               price               \\\n",
       "categ            0.0    1.0   2.0     0.0    1.0   2.0    0.0    1.0   2.0   \n",
       "date                                                                         \n",
       "2021-09-30     950.0  342.0  19.0   950.0  342.0  19.0  950.0  342.0  19.0   \n",
       "2021-10-01     663.0  344.0  38.0   663.0  344.0  38.0  663.0  344.0  38.0   \n",
       "2021-10-02     661.0    NaN  28.0   661.0    NaN  28.0  661.0    NaN  28.0   \n",
       "2021-10-03     648.0    NaN  31.0   648.0    NaN  31.0  648.0    NaN  31.0   \n",
       "2021-10-04     603.0    NaN  38.0   603.0    NaN  38.0  603.0    NaN  38.0   \n",
       "\n",
       "           session_id               \n",
       "categ             0.0    1.0   2.0  \n",
       "date                                \n",
       "2021-09-30      950.0  342.0  19.0  \n",
       "2021-10-01      663.0  344.0  38.0  \n",
       "2021-10-02      661.0    NaN  28.0  \n",
       "2021-10-03      648.0    NaN  31.0  \n",
       "2021-10-04      603.0    NaN  38.0  "
      ]
     },
     "execution_count": 60,
     "metadata": {},
     "output_type": "execute_result"
    }
   ],
   "source": [
    "# Vérification événement du mois d'octobre\n",
    "\n",
    "import datetime as dt\n",
    "\n",
    "transaction_oct21 = transaction_product[(transaction_product.date > dt.datetime(2021, 9, 30)) &\n",
    "                                        (transaction_product.date < dt.datetime(2021, 11, 1))]\n",
    "transaction_oct21  = transaction_oct21.groupby([pd.Grouper(key = 'date', freq = \"d\"),'categ']).count().reset_index()\n",
    "\n",
    "pivot_oct21 = transaction_oct21.pivot_table(transaction_oct21, index ='date', columns = 'categ')\n",
    "pivot_oct21.head()"
   ]
  },
  {
   "cell_type": "code",
   "execution_count": 61,
   "metadata": {
    "scrolled": false
   },
   "outputs": [
    {
     "name": "stdout",
     "output_type": "stream",
     "text": [
      "Nous observons un problème d'enregistrement de ventes des produits de catégorie 1 du 2 au 27 octobre.\n"
     ]
    },
    {
     "data": {
      "image/png": "[encoded data removed]",
      "text/plain": [
       "<Figure size 1080x576 with 1 Axes>"
      ]
     },
     "metadata": {
      "needs_background": "light"
     },
     "output_type": "display_data"
    }
   ],
   "source": [
    "# Visualisation\n",
    "\n",
    "print(\"Nous observons un problème d'enregistrement de ventes des produits de catégorie 1 du 2 au 27 octobre.\")\n",
    "\n",
    "plt.figure(figsize = (15,8))\n",
    "plt.grid(color='silver', linewidth = 0.5)\n",
    "\n",
    "plt.plot(pivot_oct21.index, pivot_oct21.price[0], label = 'catégorie 0')\n",
    "plt.plot(pivot_oct21.index, pivot_oct21.price[1], label = 'catégorie 1')\n",
    "plt.plot(pivot_oct21.index, pivot_oct21.price[2], label = 'catégorie 2')\n",
    "\n",
    "plt.box(False)\n",
    "plt.tick_params(left=False, bottom = False)\n",
    "plt.xticks(pivot_oct21.index, rotation = 90)\n",
    "plt.title(\"Nombre de ventes enregistrées par catégorie \\n - octobre 2021 -\", fontweight = 'bold')\n",
    "plt.legend();"
   ]
  },
  {
   "cell_type": "markdown",
   "metadata": {},
   "source": [
    "<h2><span style = 'color:indianred'> 5. Suppression octobre 2021 </span></h2>"
   ]
  },
  {
   "cell_type": "code",
   "execution_count": 62,
   "metadata": {},
   "outputs": [],
   "source": [
    "transaction_product = transaction_product.drop(transaction_product[(transaction_product.date > dt.datetime(2021, 9, 30)) \n",
    "                                                                   & (transaction_product.date < dt.datetime(2021, 11, 1))].index)"
   ]
  },
  {
   "cell_type": "markdown",
   "metadata": {},
   "source": [
    "<h2><span style = 'color:indianred'>6. Analyse des indicateurs de vente</span></h2>"
   ]
  },
  {
   "cell_type": "code",
   "execution_count": 63,
   "metadata": {
    "scrolled": true
   },
   "outputs": [
    {
     "name": "stdout",
     "output_type": "stream",
     "text": [
      "Le chiffre d'affaires global des ventes en ligne des deux dernières années est de 11517078 euros\n"
     ]
    }
   ],
   "source": [
    "# Chiffre d'affaire global\n",
    "\n",
    "ca_total = int(transaction_product.price.sum())\n",
    "\n",
    "print(\"Le chiffre d'affaires global des ventes en ligne des deux dernières années est de {} euros\"\n",
    "      .format(ca_total))"
   ]
  },
  {
   "cell_type": "code",
   "execution_count": 64,
   "metadata": {},
   "outputs": [
    {
     "data": {
      "text/html": [
       "<div>\n",
       "<style scoped>\n",
       "    .dataframe tbody tr th:only-of-type {\n",
       "        vertical-align: middle;\n",
       "    }\n",
       "\n",
       "    .dataframe tbody tr th {\n",
       "        vertical-align: top;\n",
       "    }\n",
       "\n",
       "    .dataframe thead th {\n",
       "        text-align: right;\n",
       "    }\n",
       "</style>\n",
       "<table border=\"1\" class=\"dataframe\">\n",
       "  <thead>\n",
       "    <tr style=\"text-align: right;\">\n",
       "      <th></th>\n",
       "      <th>year</th>\n",
       "      <th>price</th>\n",
       "    </tr>\n",
       "  </thead>\n",
       "  <tbody>\n",
       "    <tr>\n",
       "      <th>0</th>\n",
       "      <td>2021-2022</td>\n",
       "      <td>5493831.74</td>\n",
       "    </tr>\n",
       "    <tr>\n",
       "      <th>1</th>\n",
       "      <td>2022-2023</td>\n",
       "      <td>5515222.98</td>\n",
       "    </tr>\n",
       "  </tbody>\n",
       "</table>\n",
       "</div>"
      ],
      "text/plain": [
       "        year       price\n",
       "0  2021-2022  5493831.74\n",
       "1  2022-2023  5515222.98"
      ]
     },
     "execution_count": 64,
     "metadata": {},
     "output_type": "execute_result"
    }
   ],
   "source": [
    "sales_year = transaction_product[['date','price']].groupby(pd.Grouper(key = 'date', freq = \"m\")).sum('price').reset_index()\n",
    "sales_year = sales_year.drop(sales_year[(sales_year.date == dt.datetime(2021,10,31)) | \n",
    "                            (sales_year.date == dt.datetime(2022,10,31))].index)\n",
    "sales_year['year'] = pd.cut(sales_year.date, labels = ['2021-2022', '2022-2023'],\n",
    "                            bins = [datetime.datetime.strptime(\"2021-02-28\", \"%Y-%m-%d\"),\n",
    "                                    datetime.datetime.strptime(\"2022-02-28\", \"%Y-%m-%d\"),\n",
    "                                    datetime.datetime.strptime(\"2023-02-28\", \"%Y-%m-%d\")])\n",
    "sales_year = sales_year[['year', 'price']].groupby('year').sum('price').reset_index()\n",
    "sales_year.head()"
   ]
  },
  {
   "cell_type": "markdown",
   "metadata": {},
   "source": [
    "<div class = 'alert alert-info'> \n",
    "    L'année 2021-2022 correspond à la période de mars 2021 - février 2022. L'année 2022-2023 correspond à la période de mars 2022 - février 2023.\n",
    "</div>"
   ]
  },
  {
   "cell_type": "code",
   "execution_count": 65,
   "metadata": {
    "scrolled": false
   },
   "outputs": [
    {
     "name": "stdout",
     "output_type": "stream",
     "text": [
      "Le chiffre d'affaire a augmenté de 0.39% en 2022-2023 par rapport à l'année précédante.\n"
     ]
    },
    {
     "data": {
      "image/png": "[encoded data removed]",
      "text/plain": [
       "<Figure size 576x360 with 1 Axes>"
      ]
     },
     "metadata": {
      "needs_background": "light"
     },
     "output_type": "display_data"
    }
   ],
   "source": [
    "# Visualisation\n",
    "\n",
    "\n",
    "plt.figure(figsize = (8,5))\n",
    "plt.grid(axis = 'y', alpha = 0.5, ls ='--')\n",
    "plt.box(False)\n",
    "plt.tick_params(bottom=False, left=False)\n",
    "\n",
    "plt.bar(sales_year.year, sales_year.price, width = 0.5)\n",
    "\n",
    "plt.text(-0.12,5900000,round(sales_year.price[0],0),fontsize=12)\n",
    "plt.text(0.87,6070000,round(sales_year.price[1],0),fontsize=12)\n",
    "\n",
    "plt.xlabel('Year')\n",
    "plt.ylabel('Turnover')\n",
    "plt.ylim(0, 7000000)\n",
    "plt.xlim(-0.5,1.5)\n",
    "plt.title(\"Chiffre d'affaires annuel\", fontweight = 'bold');\n",
    "\n",
    "print(\"Le chiffre d'affaire a augmenté de {}% en 2022-2023 par rapport à l'année précédante.\"\n",
    "      .format(round((sales_year.price[1]-sales_year.price[0])*100/sales_year.price[0],2)))"
   ]
  },
  {
   "cell_type": "markdown",
   "metadata": {},
   "source": [
    "### Chiffre d'affaires par catégorie"
   ]
  },
  {
   "cell_type": "code",
   "execution_count": 66,
   "metadata": {
    "scrolled": false
   },
   "outputs": [
    {
     "data": {
      "text/html": [
       "<div>\n",
       "<style scoped>\n",
       "    .dataframe tbody tr th:only-of-type {\n",
       "        vertical-align: middle;\n",
       "    }\n",
       "\n",
       "    .dataframe tbody tr th {\n",
       "        vertical-align: top;\n",
       "    }\n",
       "\n",
       "    .dataframe thead th {\n",
       "        text-align: right;\n",
       "    }\n",
       "</style>\n",
       "<table border=\"1\" class=\"dataframe\">\n",
       "  <thead>\n",
       "    <tr style=\"text-align: right;\">\n",
       "      <th></th>\n",
       "      <th>date</th>\n",
       "      <th>categ</th>\n",
       "      <th>id_prod</th>\n",
       "      <th>price</th>\n",
       "    </tr>\n",
       "  </thead>\n",
       "  <tbody>\n",
       "    <tr>\n",
       "      <th>0</th>\n",
       "      <td>2021-03-31</td>\n",
       "      <td>0.0</td>\n",
       "      <td>0_0</td>\n",
       "      <td>150.00</td>\n",
       "    </tr>\n",
       "    <tr>\n",
       "      <th>1</th>\n",
       "      <td>2021-03-31</td>\n",
       "      <td>0.0</td>\n",
       "      <td>0_1</td>\n",
       "      <td>186.83</td>\n",
       "    </tr>\n",
       "    <tr>\n",
       "      <th>2</th>\n",
       "      <td>2021-03-31</td>\n",
       "      <td>0.0</td>\n",
       "      <td>0_10</td>\n",
       "      <td>35.90</td>\n",
       "    </tr>\n",
       "    <tr>\n",
       "      <th>3</th>\n",
       "      <td>2021-03-31</td>\n",
       "      <td>0.0</td>\n",
       "      <td>0_1000</td>\n",
       "      <td>129.96</td>\n",
       "    </tr>\n",
       "    <tr>\n",
       "      <th>4</th>\n",
       "      <td>2021-03-31</td>\n",
       "      <td>0.0</td>\n",
       "      <td>0_1001</td>\n",
       "      <td>104.79</td>\n",
       "    </tr>\n",
       "  </tbody>\n",
       "</table>\n",
       "</div>"
      ],
      "text/plain": [
       "        date  categ id_prod   price\n",
       "0 2021-03-31    0.0     0_0  150.00\n",
       "1 2021-03-31    0.0     0_1  186.83\n",
       "2 2021-03-31    0.0    0_10   35.90\n",
       "3 2021-03-31    0.0  0_1000  129.96\n",
       "4 2021-03-31    0.0  0_1001  104.79"
      ]
     },
     "execution_count": 66,
     "metadata": {},
     "output_type": "execute_result"
    }
   ],
   "source": [
    "# Chiffre d'affaires categorie\n",
    "\n",
    "sales_category = transaction_product[['date','price','categ','id_prod']].groupby([pd.Grouper(key = 'date', freq = \"m\"),'categ','id_prod']).sum('price').reset_index()\n",
    "sales_category.head()"
   ]
  },
  {
   "cell_type": "code",
   "execution_count": 67,
   "metadata": {
    "scrolled": false
   },
   "outputs": [
    {
     "name": "stdout",
     "output_type": "stream",
     "text": [
      "Les proportions de chaque catégorie sont à peu près homogènes avec la catégorie 2 visiblement minoritaire de 13-15% par rapport à deux autres.\n"
     ]
    },
    {
     "data": {
      "image/png": "[encoded data removed]",
      "text/plain": [
       "<Figure size 576x576 with 1 Axes>"
      ]
     },
     "metadata": {},
     "output_type": "display_data"
    }
   ],
   "source": [
    "# Visualisation\n",
    "\n",
    "sales_category_prop = sales_category[['categ','price']].groupby('categ').sum('price').reset_index()\n",
    "\n",
    "plt.figure(figsize = (8,8))\n",
    "plt.pie(sales_category_prop.price, labels = sales_category_prop.categ, colors = sns.set_palette('Set2'), \n",
    "        autopct = '%.2f%%')\n",
    "plt.title(\"Part de chiffre d'affaires par catégorie\", fontsize = 14);\n",
    "\n",
    "print('La catégorie 1 est visiblement majoritaire par rapport à deux autres.')"
   ]
  },
  {
   "cell_type": "markdown",
   "metadata": {},
   "source": [
    "### Meilleures ventes vs. pires ventes"
   ]
  },
  {
   "cell_type": "code",
   "execution_count": 68,
   "metadata": {},
   "outputs": [
    {
     "data": {
      "text/html": [
       "<div>\n",
       "<style scoped>\n",
       "    .dataframe tbody tr th:only-of-type {\n",
       "        vertical-align: middle;\n",
       "    }\n",
       "\n",
       "    .dataframe tbody tr th {\n",
       "        vertical-align: top;\n",
       "    }\n",
       "\n",
       "    .dataframe thead th {\n",
       "        text-align: right;\n",
       "    }\n",
       "</style>\n",
       "<table border=\"1\" class=\"dataframe\">\n",
       "  <thead>\n",
       "    <tr style=\"text-align: right;\">\n",
       "      <th></th>\n",
       "      <th>id_prod</th>\n",
       "      <th>categ</th>\n",
       "      <th>price</th>\n",
       "    </tr>\n",
       "  </thead>\n",
       "  <tbody>\n",
       "    <tr>\n",
       "      <th>0</th>\n",
       "      <td>2_159</td>\n",
       "      <td>2.0</td>\n",
       "      <td>92265.68</td>\n",
       "    </tr>\n",
       "    <tr>\n",
       "      <th>1</th>\n",
       "      <td>2_135</td>\n",
       "      <td>2.0</td>\n",
       "      <td>67403.23</td>\n",
       "    </tr>\n",
       "    <tr>\n",
       "      <th>2</th>\n",
       "      <td>2_112</td>\n",
       "      <td>2.0</td>\n",
       "      <td>62772.53</td>\n",
       "    </tr>\n",
       "    <tr>\n",
       "      <th>3</th>\n",
       "      <td>2_102</td>\n",
       "      <td>2.0</td>\n",
       "      <td>58962.58</td>\n",
       "    </tr>\n",
       "    <tr>\n",
       "      <th>4</th>\n",
       "      <td>2_209</td>\n",
       "      <td>2.0</td>\n",
       "      <td>55292.10</td>\n",
       "    </tr>\n",
       "    <tr>\n",
       "      <th>...</th>\n",
       "      <td>...</td>\n",
       "      <td>...</td>\n",
       "      <td>...</td>\n",
       "    </tr>\n",
       "    <tr>\n",
       "      <th>3259</th>\n",
       "      <td>0_643</td>\n",
       "      <td>0.0</td>\n",
       "      <td>1.98</td>\n",
       "    </tr>\n",
       "    <tr>\n",
       "      <th>3260</th>\n",
       "      <td>0_1653</td>\n",
       "      <td>0.0</td>\n",
       "      <td>1.98</td>\n",
       "    </tr>\n",
       "    <tr>\n",
       "      <th>3261</th>\n",
       "      <td>0_1284</td>\n",
       "      <td>0.0</td>\n",
       "      <td>1.38</td>\n",
       "    </tr>\n",
       "    <tr>\n",
       "      <th>3262</th>\n",
       "      <td>0_898</td>\n",
       "      <td>0.0</td>\n",
       "      <td>1.27</td>\n",
       "    </tr>\n",
       "    <tr>\n",
       "      <th>3263</th>\n",
       "      <td>0_1539</td>\n",
       "      <td>0.0</td>\n",
       "      <td>0.99</td>\n",
       "    </tr>\n",
       "  </tbody>\n",
       "</table>\n",
       "<p>3264 rows × 3 columns</p>\n",
       "</div>"
      ],
      "text/plain": [
       "     id_prod  categ     price\n",
       "0      2_159    2.0  92265.68\n",
       "1      2_135    2.0  67403.23\n",
       "2      2_112    2.0  62772.53\n",
       "3      2_102    2.0  58962.58\n",
       "4      2_209    2.0  55292.10\n",
       "...      ...    ...       ...\n",
       "3259   0_643    0.0      1.98\n",
       "3260  0_1653    0.0      1.98\n",
       "3261  0_1284    0.0      1.38\n",
       "3262   0_898    0.0      1.27\n",
       "3263  0_1539    0.0      0.99\n",
       "\n",
       "[3264 rows x 3 columns]"
      ]
     },
     "execution_count": 68,
     "metadata": {},
     "output_type": "execute_result"
    }
   ],
   "source": [
    "# Meilleures ventes\n",
    "\n",
    "top_sales = sales_category[['id_prod','categ','price']].groupby(['id_prod','categ']).sum('price').sort_values('price', ascending = False).reset_index()\n",
    "top_sales"
   ]
  },
  {
   "cell_type": "code",
   "execution_count": 69,
   "metadata": {
    "scrolled": false
   },
   "outputs": [
    {
     "name": "stdout",
     "output_type": "stream",
     "text": [
      "Les meilleures ventes sont les livres de catégorie 1 et 2.\n"
     ]
    },
    {
     "data": {
      "image/png": "[encoded data removed]",
      "text/plain": [
       "<Figure size 1008x576 with 1 Axes>"
      ]
     },
     "metadata": {
      "needs_background": "light"
     },
     "output_type": "display_data"
    }
   ],
   "source": [
    "# Visualisation\n",
    "\n",
    "plt.figure(figsize = (14,8))\n",
    "plt.grid(axis = 'y', ls='--')\n",
    "\n",
    "plt.bar(top_sales.head(30).id_prod, top_sales.head(30).price)\n",
    "\n",
    "plt.box(False)\n",
    "plt.xticks(rotation = 45)\n",
    "plt.tick_params(bottom=False, left=False)\n",
    "plt.title('Meilleures ventes', fontweight = 'bold');\n",
    "\n",
    "print(\"Les meilleures ventes sont les livres de catégorie 1 et 2.\")"
   ]
  },
  {
   "cell_type": "code",
   "execution_count": 70,
   "metadata": {
    "scrolled": false
   },
   "outputs": [
    {
     "name": "stdout",
     "output_type": "stream",
     "text": [
      "Les livres qui ne se vendent pas bien sont de catégorie 0.\n"
     ]
    },
    {
     "data": {
      "image/png": "[encoded data removed]",
      "text/plain": [
       "<Figure size 1008x576 with 1 Axes>"
      ]
     },
     "metadata": {
      "needs_background": "light"
     },
     "output_type": "display_data"
    }
   ],
   "source": [
    "# Visualisation\n",
    "\n",
    "plt.figure(figsize = (14,8))\n",
    "plt.grid(axis = 'y', ls='--')\n",
    "\n",
    "plt.bar(top_sales.tail(30).id_prod, top_sales.tail(30).price, color ='chocolate')\n",
    "\n",
    "plt.box(False)\n",
    "plt.xticks(rotation = 45)\n",
    "plt.tick_params(bottom=False, left=False)\n",
    "plt.title('Ventes Flops', fontweight = 'bold');\n",
    "\n",
    "print('Les livres qui ne se vendent pas bien sont de catégorie 0.')"
   ]
  },
  {
   "cell_type": "markdown",
   "metadata": {},
   "source": [
    "<h2><span style = 'color:indianred'>7. Analyse des clients</span></h2>"
   ]
  },
  {
   "cell_type": "markdown",
   "metadata": {},
   "source": [
    "### Création de table transaction - produit - client"
   ]
  },
  {
   "cell_type": "code",
   "execution_count": 71,
   "metadata": {},
   "outputs": [
    {
     "data": {
      "text/plain": [
       "((656415, 6), (8621, 3))"
      ]
     },
     "execution_count": 71,
     "metadata": {},
     "output_type": "execute_result"
    }
   ],
   "source": [
    "transaction_product.shape, customer.shape"
   ]
  },
  {
   "cell_type": "code",
   "execution_count": 72,
   "metadata": {},
   "outputs": [
    {
     "name": "stdout",
     "output_type": "stream",
     "text": [
      "<class 'pandas.core.frame.DataFrame'>\n",
      "Int64Index: 656415 entries, 0 to 656414\n",
      "Data columns (total 8 columns):\n",
      " #   Column      Non-Null Count   Dtype         \n",
      "---  ------      --------------   -----         \n",
      " 0   id_prod     656415 non-null  object        \n",
      " 1   date        656415 non-null  datetime64[ns]\n",
      " 2   session_id  656415 non-null  object        \n",
      " 3   client_id   656415 non-null  object        \n",
      " 4   price       656415 non-null  float64       \n",
      " 5   categ       656415 non-null  float64       \n",
      " 6   sex         656415 non-null  object        \n",
      " 7   birth       656415 non-null  int64         \n",
      "dtypes: datetime64[ns](1), float64(2), int64(1), object(4)\n",
      "memory usage: 45.1+ MB\n"
     ]
    }
   ],
   "source": [
    "# Fusion de table transaction, produit, client\n",
    "\n",
    "tpc = pd.merge(transaction_product, customer, on = 'client_id')\n",
    "tpc.info()"
   ]
  },
  {
   "cell_type": "code",
   "execution_count": 73,
   "metadata": {},
   "outputs": [
    {
     "data": {
      "text/plain": [
       "0"
      ]
     },
     "execution_count": 73,
     "metadata": {},
     "output_type": "execute_result"
    }
   ],
   "source": [
    "# Vérification des doublons\n",
    "\n",
    "tpc.duplicated().sum()"
   ]
  },
  {
   "cell_type": "code",
   "execution_count": 74,
   "metadata": {
    "scrolled": true
   },
   "outputs": [
    {
     "data": {
      "text/html": [
       "<div>\n",
       "<style scoped>\n",
       "    .dataframe tbody tr th:only-of-type {\n",
       "        vertical-align: middle;\n",
       "    }\n",
       "\n",
       "    .dataframe tbody tr th {\n",
       "        vertical-align: top;\n",
       "    }\n",
       "\n",
       "    .dataframe thead th {\n",
       "        text-align: right;\n",
       "    }\n",
       "</style>\n",
       "<table border=\"1\" class=\"dataframe\">\n",
       "  <thead>\n",
       "    <tr style=\"text-align: right;\">\n",
       "      <th></th>\n",
       "      <th>id_prod</th>\n",
       "      <th>date</th>\n",
       "      <th>session_id</th>\n",
       "      <th>client_id</th>\n",
       "      <th>price</th>\n",
       "      <th>categ</th>\n",
       "      <th>sex</th>\n",
       "      <th>birth</th>\n",
       "    </tr>\n",
       "  </thead>\n",
       "  <tbody>\n",
       "    <tr>\n",
       "      <th>0</th>\n",
       "      <td>0_1518</td>\n",
       "      <td>2022-05-20 13:21:29.043970</td>\n",
       "      <td>s_211425</td>\n",
       "      <td>c_103</td>\n",
       "      <td>4.18</td>\n",
       "      <td>0.0</td>\n",
       "      <td>f</td>\n",
       "      <td>1986</td>\n",
       "    </tr>\n",
       "    <tr>\n",
       "      <th>1</th>\n",
       "      <td>0_1627</td>\n",
       "      <td>2022-06-18 05:55:31.816994</td>\n",
       "      <td>s_225494</td>\n",
       "      <td>c_103</td>\n",
       "      <td>3.99</td>\n",
       "      <td>0.0</td>\n",
       "      <td>f</td>\n",
       "      <td>1986</td>\n",
       "    </tr>\n",
       "    <tr>\n",
       "      <th>2</th>\n",
       "      <td>0_1104</td>\n",
       "      <td>2023-02-08 17:31:06.898425</td>\n",
       "      <td>s_338755</td>\n",
       "      <td>c_103</td>\n",
       "      <td>13.21</td>\n",
       "      <td>0.0</td>\n",
       "      <td>f</td>\n",
       "      <td>1986</td>\n",
       "    </tr>\n",
       "    <tr>\n",
       "      <th>3</th>\n",
       "      <td>0_1390</td>\n",
       "      <td>2021-04-20 06:18:39.939761</td>\n",
       "      <td>s_23078</td>\n",
       "      <td>c_103</td>\n",
       "      <td>19.37</td>\n",
       "      <td>0.0</td>\n",
       "      <td>f</td>\n",
       "      <td>1986</td>\n",
       "    </tr>\n",
       "    <tr>\n",
       "      <th>4</th>\n",
       "      <td>0_1547</td>\n",
       "      <td>2022-03-15 19:54:53.904123</td>\n",
       "      <td>s_179629</td>\n",
       "      <td>c_103</td>\n",
       "      <td>8.99</td>\n",
       "      <td>0.0</td>\n",
       "      <td>f</td>\n",
       "      <td>1986</td>\n",
       "    </tr>\n",
       "  </tbody>\n",
       "</table>\n",
       "</div>"
      ],
      "text/plain": [
       "  id_prod                       date session_id client_id  price  categ sex  \\\n",
       "0  0_1518 2022-05-20 13:21:29.043970   s_211425     c_103   4.18    0.0   f   \n",
       "1  0_1627 2022-06-18 05:55:31.816994   s_225494     c_103   3.99    0.0   f   \n",
       "2  0_1104 2023-02-08 17:31:06.898425   s_338755     c_103  13.21    0.0   f   \n",
       "3  0_1390 2021-04-20 06:18:39.939761    s_23078     c_103  19.37    0.0   f   \n",
       "4  0_1547 2022-03-15 19:54:53.904123   s_179629     c_103   8.99    0.0   f   \n",
       "\n",
       "   birth  \n",
       "0   1986  \n",
       "1   1986  \n",
       "2   1986  \n",
       "3   1986  \n",
       "4   1986  "
      ]
     },
     "execution_count": 74,
     "metadata": {},
     "output_type": "execute_result"
    }
   ],
   "source": [
    "# Aperçu des données\n",
    "\n",
    "tpc.head()"
   ]
  },
  {
   "cell_type": "markdown",
   "metadata": {},
   "source": [
    "### Profil clients"
   ]
  },
  {
   "cell_type": "code",
   "execution_count": 75,
   "metadata": {
    "scrolled": true
   },
   "outputs": [
    {
     "data": {
      "text/html": [
       "<div>\n",
       "<style scoped>\n",
       "    .dataframe tbody tr th:only-of-type {\n",
       "        vertical-align: middle;\n",
       "    }\n",
       "\n",
       "    .dataframe tbody tr th {\n",
       "        vertical-align: top;\n",
       "    }\n",
       "\n",
       "    .dataframe thead th {\n",
       "        text-align: right;\n",
       "    }\n",
       "</style>\n",
       "<table border=\"1\" class=\"dataframe\">\n",
       "  <thead>\n",
       "    <tr style=\"text-align: right;\">\n",
       "      <th></th>\n",
       "      <th>id_prod</th>\n",
       "      <th>date</th>\n",
       "      <th>session_id</th>\n",
       "      <th>client_id</th>\n",
       "      <th>price</th>\n",
       "      <th>categ</th>\n",
       "      <th>sex</th>\n",
       "      <th>birth</th>\n",
       "      <th>age</th>\n",
       "      <th>age_group</th>\n",
       "    </tr>\n",
       "  </thead>\n",
       "  <tbody>\n",
       "    <tr>\n",
       "      <th>0</th>\n",
       "      <td>0_1518</td>\n",
       "      <td>2022-05-20 13:21:29.043970</td>\n",
       "      <td>s_211425</td>\n",
       "      <td>c_103</td>\n",
       "      <td>4.18</td>\n",
       "      <td>0.0</td>\n",
       "      <td>f</td>\n",
       "      <td>1986</td>\n",
       "      <td>37</td>\n",
       "      <td>30-39</td>\n",
       "    </tr>\n",
       "    <tr>\n",
       "      <th>1</th>\n",
       "      <td>0_1627</td>\n",
       "      <td>2022-06-18 05:55:31.816994</td>\n",
       "      <td>s_225494</td>\n",
       "      <td>c_103</td>\n",
       "      <td>3.99</td>\n",
       "      <td>0.0</td>\n",
       "      <td>f</td>\n",
       "      <td>1986</td>\n",
       "      <td>37</td>\n",
       "      <td>30-39</td>\n",
       "    </tr>\n",
       "    <tr>\n",
       "      <th>2</th>\n",
       "      <td>0_1104</td>\n",
       "      <td>2023-02-08 17:31:06.898425</td>\n",
       "      <td>s_338755</td>\n",
       "      <td>c_103</td>\n",
       "      <td>13.21</td>\n",
       "      <td>0.0</td>\n",
       "      <td>f</td>\n",
       "      <td>1986</td>\n",
       "      <td>37</td>\n",
       "      <td>30-39</td>\n",
       "    </tr>\n",
       "    <tr>\n",
       "      <th>3</th>\n",
       "      <td>0_1390</td>\n",
       "      <td>2021-04-20 06:18:39.939761</td>\n",
       "      <td>s_23078</td>\n",
       "      <td>c_103</td>\n",
       "      <td>19.37</td>\n",
       "      <td>0.0</td>\n",
       "      <td>f</td>\n",
       "      <td>1986</td>\n",
       "      <td>37</td>\n",
       "      <td>30-39</td>\n",
       "    </tr>\n",
       "    <tr>\n",
       "      <th>4</th>\n",
       "      <td>0_1547</td>\n",
       "      <td>2022-03-15 19:54:53.904123</td>\n",
       "      <td>s_179629</td>\n",
       "      <td>c_103</td>\n",
       "      <td>8.99</td>\n",
       "      <td>0.0</td>\n",
       "      <td>f</td>\n",
       "      <td>1986</td>\n",
       "      <td>37</td>\n",
       "      <td>30-39</td>\n",
       "    </tr>\n",
       "  </tbody>\n",
       "</table>\n",
       "</div>"
      ],
      "text/plain": [
       "  id_prod                       date session_id client_id  price  categ sex  \\\n",
       "0  0_1518 2022-05-20 13:21:29.043970   s_211425     c_103   4.18    0.0   f   \n",
       "1  0_1627 2022-06-18 05:55:31.816994   s_225494     c_103   3.99    0.0   f   \n",
       "2  0_1104 2023-02-08 17:31:06.898425   s_338755     c_103  13.21    0.0   f   \n",
       "3  0_1390 2021-04-20 06:18:39.939761    s_23078     c_103  19.37    0.0   f   \n",
       "4  0_1547 2022-03-15 19:54:53.904123   s_179629     c_103   8.99    0.0   f   \n",
       "\n",
       "   birth  age age_group  \n",
       "0   1986   37     30-39  \n",
       "1   1986   37     30-39  \n",
       "2   1986   37     30-39  \n",
       "3   1986   37     30-39  \n",
       "4   1986   37     30-39  "
      ]
     },
     "execution_count": 75,
     "metadata": {},
     "output_type": "execute_result"
    }
   ],
   "source": [
    "# Ajout d'information âge\n",
    "\n",
    "tpc['age'] = 2023 - tpc['birth']\n",
    "tpc['age_group'] = pd.cut(tpc.age, [10, 19, 29, 39, 49, 59, 69, 79, 89, 99], \n",
    "                          labels = ['10-19','20-29','30-39','40-49','50-59','60-69','70-79','80-89','90-99'])\n",
    "tpc.head()"
   ]
  },
  {
   "cell_type": "code",
   "execution_count": 76,
   "metadata": {},
   "outputs": [
    {
     "data": {
      "text/html": [
       "<div>\n",
       "<style scoped>\n",
       "    .dataframe tbody tr th:only-of-type {\n",
       "        vertical-align: middle;\n",
       "    }\n",
       "\n",
       "    .dataframe tbody tr th {\n",
       "        vertical-align: top;\n",
       "    }\n",
       "\n",
       "    .dataframe thead th {\n",
       "        text-align: right;\n",
       "    }\n",
       "</style>\n",
       "<table border=\"1\" class=\"dataframe\">\n",
       "  <thead>\n",
       "    <tr style=\"text-align: right;\">\n",
       "      <th></th>\n",
       "      <th>age</th>\n",
       "    </tr>\n",
       "  </thead>\n",
       "  <tbody>\n",
       "    <tr>\n",
       "      <th>count</th>\n",
       "      <td>656415.000000</td>\n",
       "    </tr>\n",
       "    <tr>\n",
       "      <th>mean</th>\n",
       "      <td>45.223112</td>\n",
       "    </tr>\n",
       "    <tr>\n",
       "      <th>std</th>\n",
       "      <td>13.617622</td>\n",
       "    </tr>\n",
       "    <tr>\n",
       "      <th>min</th>\n",
       "      <td>19.000000</td>\n",
       "    </tr>\n",
       "    <tr>\n",
       "      <th>25%</th>\n",
       "      <td>36.000000</td>\n",
       "    </tr>\n",
       "    <tr>\n",
       "      <th>50%</th>\n",
       "      <td>43.000000</td>\n",
       "    </tr>\n",
       "    <tr>\n",
       "      <th>75%</th>\n",
       "      <td>53.000000</td>\n",
       "    </tr>\n",
       "    <tr>\n",
       "      <th>max</th>\n",
       "      <td>94.000000</td>\n",
       "    </tr>\n",
       "  </tbody>\n",
       "</table>\n",
       "</div>"
      ],
      "text/plain": [
       "                 age\n",
       "count  656415.000000\n",
       "mean       45.223112\n",
       "std        13.617622\n",
       "min        19.000000\n",
       "25%        36.000000\n",
       "50%        43.000000\n",
       "75%        53.000000\n",
       "max        94.000000"
      ]
     },
     "execution_count": 76,
     "metadata": {},
     "output_type": "execute_result"
    }
   ],
   "source": [
    "# Âge est genre clients\n",
    "\n",
    "tpc[['sex','age']].describe()"
   ]
  },
  {
   "cell_type": "code",
   "execution_count": 77,
   "metadata": {
    "scrolled": false
   },
   "outputs": [
    {
     "name": "stdout",
     "output_type": "stream",
     "text": [
      "L'âge moyen des clients en ligne est 45.2 ans et nous avons autant de femmes que d'hommes.\n"
     ]
    },
    {
     "data": {
      "image/png": "[encoded data removed]",
      "text/plain": [
       "<Figure size 864x576 with 1 Axes>"
      ]
     },
     "metadata": {
      "needs_background": "light"
     },
     "output_type": "display_data"
    }
   ],
   "source": [
    "# Visualisation\n",
    "\n",
    "print(\"L'âge moyen des clients en ligne est {} ans et nous avons autant de femmes que d'hommes.\".format(round(tpc.age.mean(),1)))\n",
    "\n",
    "age_femme = tpc[tpc.sex == 'f'].age_group.value_counts(sort=False)\n",
    "age_homme = tpc[tpc.sex == 'm'].age_group.value_counts(sort=False)\n",
    "\n",
    "plt.figure(figsize = (12,8))\n",
    "plt.grid(axis = 'y', ls = '--')\n",
    "plt.box(False)\n",
    "plt.tick_params(bottom = False, left= False)\n",
    "\n",
    "plt.bar(x = age_femme.index, height = age_femme, label = 'femme', color = sns.set_palette('Set2'))\n",
    "plt.bar(x = age_homme.index, height = age_homme, label = 'homme', bottom = age_femme, color = sns.set_palette('Set2'))\n",
    "plt.legend()\n",
    "plt.title('Profil démographique clients', fontsize = 13, fontweight = 'bold');"
   ]
  },
  {
   "cell_type": "code",
   "execution_count": 78,
   "metadata": {},
   "outputs": [
    {
     "data": {
      "text/html": [
       "<div>\n",
       "<style scoped>\n",
       "    .dataframe tbody tr th:only-of-type {\n",
       "        vertical-align: middle;\n",
       "    }\n",
       "\n",
       "    .dataframe tbody tr th {\n",
       "        vertical-align: top;\n",
       "    }\n",
       "\n",
       "    .dataframe thead th {\n",
       "        text-align: right;\n",
       "    }\n",
       "</style>\n",
       "<table border=\"1\" class=\"dataframe\">\n",
       "  <thead>\n",
       "    <tr style=\"text-align: right;\">\n",
       "      <th></th>\n",
       "      <th>price</th>\n",
       "      <th>lorenz</th>\n",
       "    </tr>\n",
       "    <tr>\n",
       "      <th>client_id</th>\n",
       "      <th></th>\n",
       "      <th></th>\n",
       "    </tr>\n",
       "  </thead>\n",
       "  <tbody>\n",
       "    <tr>\n",
       "      <th>c_8140</th>\n",
       "      <td>8.30</td>\n",
       "      <td>7.206689e-07</td>\n",
       "    </tr>\n",
       "    <tr>\n",
       "      <th>c_8114</th>\n",
       "      <td>9.98</td>\n",
       "      <td>1.587208e-06</td>\n",
       "    </tr>\n",
       "    <tr>\n",
       "      <th>c_240</th>\n",
       "      <td>11.06</td>\n",
       "      <td>2.547521e-06</td>\n",
       "    </tr>\n",
       "    <tr>\n",
       "      <th>c_4648</th>\n",
       "      <td>11.20</td>\n",
       "      <td>3.519990e-06</td>\n",
       "    </tr>\n",
       "    <tr>\n",
       "      <th>c_2793</th>\n",
       "      <td>12.99</td>\n",
       "      <td>4.647880e-06</td>\n",
       "    </tr>\n",
       "  </tbody>\n",
       "</table>\n",
       "</div>"
      ],
      "text/plain": [
       "           price        lorenz\n",
       "client_id                     \n",
       "c_8140      8.30  7.206689e-07\n",
       "c_8114      9.98  1.587208e-06\n",
       "c_240      11.06  2.547521e-06\n",
       "c_4648     11.20  3.519990e-06\n",
       "c_2793     12.99  4.647880e-06"
      ]
     },
     "execution_count": 78,
     "metadata": {},
     "output_type": "execute_result"
    }
   ],
   "source": [
    "# Répartition chiffre d'affaire\n",
    "\n",
    "customer_turnover = tpc[['client_id','price']].groupby('client_id').sum('price').sort_values('price')\n",
    "customer_turnover['lorenz'] = customer_turnover.price.cumsum()/customer_turnover.price.sum()\n",
    "customer_turnover.head()"
   ]
  },
  {
   "cell_type": "code",
   "execution_count": 79,
   "metadata": {
    "scrolled": false
   },
   "outputs": [
    {
     "name": "stdout",
     "output_type": "stream",
     "text": [
      "Les 50% de nos clients génère 20% de chiffre d'affaires et les autres 50% génère 80% de chiffre d'affaires.\n"
     ]
    },
    {
     "data": {
      "image/png": "[encoded data removed]",
      "text/plain": [
       "<Figure size 648x648 with 1 Axes>"
      ]
     },
     "metadata": {
      "needs_background": "light"
     },
     "output_type": "display_data"
    }
   ],
   "source": [
    "# Visualisation\n",
    "\n",
    "plt.figure(figsize=(9,9))\n",
    "plt.grid('whitegrid')\n",
    "plt.box(False)\n",
    "plt.tick_params(bottom = False, left = False)\n",
    "\n",
    "\n",
    "plt.scatter(np.arange(len(customer_turnover.lorenz))*100/len(customer_turnover.lorenz),\n",
    "            customer_turnover.lorenz*100, s = 2, label = \"chiffre d'affaire\", color = 'seagreen')\n",
    "plt.plot(np.arange(0,101), np.arange(0,101), '--', color = 'gold', linewidth = 1)\n",
    "\n",
    "plt.legend()\n",
    "plt.xlabel('% Client')\n",
    "plt.ylabel(\"% Chiffre d'affaires\")\n",
    "plt.title(\"Distribution de chiffre d'affaires entre les clients\", fontweight ='bold');\n",
    "\n",
    "print(\"Les 50% de nos clients génère 20% de chiffre d'affaires et les autres 50% génère 80% de chiffre d'affaires.\")"
   ]
  },
  {
   "cell_type": "markdown",
   "metadata": {},
   "source": [
    "### Lien genre client - catégorie livre"
   ]
  },
  {
   "cell_type": "code",
   "execution_count": 80,
   "metadata": {
    "scrolled": false
   },
   "outputs": [
    {
     "data": {
      "text/html": [
       "<div>\n",
       "<style scoped>\n",
       "    .dataframe tbody tr th:only-of-type {\n",
       "        vertical-align: middle;\n",
       "    }\n",
       "\n",
       "    .dataframe tbody tr th {\n",
       "        vertical-align: top;\n",
       "    }\n",
       "\n",
       "    .dataframe thead th {\n",
       "        text-align: right;\n",
       "    }\n",
       "</style>\n",
       "<table border=\"1\" class=\"dataframe\">\n",
       "  <thead>\n",
       "    <tr style=\"text-align: right;\">\n",
       "      <th>categ</th>\n",
       "      <th>0.0</th>\n",
       "      <th>1.0</th>\n",
       "      <th>2.0</th>\n",
       "      <th>All</th>\n",
       "    </tr>\n",
       "    <tr>\n",
       "      <th>sex</th>\n",
       "      <th></th>\n",
       "      <th></th>\n",
       "      <th></th>\n",
       "      <th></th>\n",
       "    </tr>\n",
       "  </thead>\n",
       "  <tbody>\n",
       "    <tr>\n",
       "      <th>f</th>\n",
       "      <td>196643</td>\n",
       "      <td>113927</td>\n",
       "      <td>16712</td>\n",
       "      <td>327282</td>\n",
       "    </tr>\n",
       "    <tr>\n",
       "      <th>m</th>\n",
       "      <td>199318</td>\n",
       "      <td>111234</td>\n",
       "      <td>18581</td>\n",
       "      <td>329133</td>\n",
       "    </tr>\n",
       "    <tr>\n",
       "      <th>All</th>\n",
       "      <td>395961</td>\n",
       "      <td>225161</td>\n",
       "      <td>35293</td>\n",
       "      <td>656415</td>\n",
       "    </tr>\n",
       "  </tbody>\n",
       "</table>\n",
       "</div>"
      ],
      "text/plain": [
       "categ     0.0     1.0    2.0     All\n",
       "sex                                 \n",
       "f      196643  113927  16712  327282\n",
       "m      199318  111234  18581  329133\n",
       "All    395961  225161  35293  656415"
      ]
     },
     "execution_count": 80,
     "metadata": {},
     "output_type": "execute_result"
    }
   ],
   "source": [
    "# Répartition de genre entre les catégories des livres\n",
    "\n",
    "gen_cat = pd.crosstab(tpc.sex, tpc.categ, margins = True)\n",
    "gen_cat.head()"
   ]
  },
  {
   "cell_type": "code",
   "execution_count": 81,
   "metadata": {
    "scrolled": false
   },
   "outputs": [
    {
     "name": "stdout",
     "output_type": "stream",
     "text": [
      "Nous n'observons pas de lien entre le genre de clients et la catégorie de livres achetés.\n"
     ]
    },
    {
     "data": {
      "image/png": "[encoded data removed]",
      "text/plain": [
       "<Figure size 1080x360 with 2 Axes>"
      ]
     },
     "metadata": {
      "needs_background": "light"
     },
     "output_type": "display_data"
    }
   ],
   "source": [
    "# Visualisation\n",
    "\n",
    "fig = plt.figure (figsize = (15,5))\n",
    "\n",
    "ax1 = fig.add_subplot(121)\n",
    "\n",
    "ax1.spines.top.set_visible(False)\n",
    "ax1.spines.bottom.set_visible(False)\n",
    "ax1.spines.left.set_visible(False)\n",
    "ax1.spines.right.set_visible(False)\n",
    "ax1.grid(axis = 'y', alpha = 0.5)\n",
    "sns.countplot(x = 'sex', hue = 'categ', data = tpc)\n",
    "ax1.xaxis.set_ticks_position('none') \n",
    "ax1.yaxis.set_ticks_position('none') \n",
    "plt.xlabel('Genre')\n",
    "plt.ylabel('')\n",
    "plt.title('Répartition de la catégorie de livres selon le genre', fontweight = 'bold')\n",
    "\n",
    "ax2 = fig.add_subplot(122)\n",
    "ax2.spines.top.set_visible(False)\n",
    "ax2.spines.bottom.set_visible(False)\n",
    "ax2.spines.left.set_visible(False)\n",
    "ax2.spines.right.set_visible(False)\n",
    "ax2.grid(axis = 'y', alpha = 0.5)\n",
    "sns.countplot(x = 'categ', hue = 'sex', data = tpc, palette ='Set3')\n",
    "ax2.xaxis.set_ticks_position('none') \n",
    "ax2.yaxis.set_ticks_position('none') \n",
    "plt.xlabel('Catégorie')\n",
    "plt.ylabel('')\n",
    "plt.title('Répartition de genre de selon la catégorie de livres', fontweight = 'bold');\n",
    "\n",
    "print(\"Nous n'observons pas de lien entre le genre de clients et la catégorie de livres achetés.\")"
   ]
  },
  {
   "cell_type": "code",
   "execution_count": 82,
   "metadata": {},
   "outputs": [
    {
     "name": "stdout",
     "output_type": "stream",
     "text": [
      "chi2: 144.0383194139693\n",
      "p-valeur 1.4073478695426263e-28\n",
      "Le lien entre le genre et la catégorie de livre est significatif.\n"
     ]
    }
   ],
   "source": [
    "## Test Chi2\n",
    "from scipy import stats\n",
    "\n",
    "chi_2, p, df, expected = stats.chi2_contingency(gen_cat)\n",
    "\n",
    "print(\"chi2:\", chi_2)\n",
    "print(\"p-valeur\", p)\n",
    "print(\"Le lien entre le genre et la catégorie de livre est significatif.\")"
   ]
  },
  {
   "cell_type": "markdown",
   "metadata": {},
   "source": [
    "### Lien âge client - montant panier"
   ]
  },
  {
   "cell_type": "code",
   "execution_count": 83,
   "metadata": {},
   "outputs": [
    {
     "data": {
      "text/html": [
       "<div>\n",
       "<style scoped>\n",
       "    .dataframe tbody tr th:only-of-type {\n",
       "        vertical-align: middle;\n",
       "    }\n",
       "\n",
       "    .dataframe tbody tr th {\n",
       "        vertical-align: top;\n",
       "    }\n",
       "\n",
       "    .dataframe thead th {\n",
       "        text-align: right;\n",
       "    }\n",
       "</style>\n",
       "<table border=\"1\" class=\"dataframe\">\n",
       "  <thead>\n",
       "    <tr style=\"text-align: right;\">\n",
       "      <th></th>\n",
       "      <th>session_id</th>\n",
       "      <th>price</th>\n",
       "      <th>age</th>\n",
       "      <th>age_group</th>\n",
       "    </tr>\n",
       "  </thead>\n",
       "  <tbody>\n",
       "    <tr>\n",
       "      <th>0</th>\n",
       "      <td>s_1</td>\n",
       "      <td>11.99</td>\n",
       "      <td>56</td>\n",
       "      <td>50-59</td>\n",
       "    </tr>\n",
       "    <tr>\n",
       "      <th>1</th>\n",
       "      <td>s_10</td>\n",
       "      <td>26.99</td>\n",
       "      <td>53</td>\n",
       "      <td>50-59</td>\n",
       "    </tr>\n",
       "    <tr>\n",
       "      <th>2</th>\n",
       "      <td>s_100</td>\n",
       "      <td>33.72</td>\n",
       "      <td>45</td>\n",
       "      <td>40-49</td>\n",
       "    </tr>\n",
       "    <tr>\n",
       "      <th>3</th>\n",
       "      <td>s_1000</td>\n",
       "      <td>39.22</td>\n",
       "      <td>34</td>\n",
       "      <td>30-39</td>\n",
       "    </tr>\n",
       "    <tr>\n",
       "      <th>4</th>\n",
       "      <td>s_10000</td>\n",
       "      <td>41.49</td>\n",
       "      <td>34</td>\n",
       "      <td>30-39</td>\n",
       "    </tr>\n",
       "  </tbody>\n",
       "</table>\n",
       "</div>"
      ],
      "text/plain": [
       "  session_id  price  age age_group\n",
       "0        s_1  11.99   56     50-59\n",
       "1       s_10  26.99   53     50-59\n",
       "2      s_100  33.72   45     40-49\n",
       "3     s_1000  39.22   34     30-39\n",
       "4    s_10000  41.49   34     30-39"
      ]
     },
     "execution_count": 83,
     "metadata": {},
     "output_type": "execute_result"
    }
   ],
   "source": [
    "# Montant panier de chaque client\n",
    "\n",
    "age_panier = tpc[['session_id', 'price', 'age','age_group']].groupby('session_id').agg({'price':sum, 'age':min, 'age_group':min}).reset_index()\n",
    "age_panier.head()"
   ]
  },
  {
   "cell_type": "code",
   "execution_count": 84,
   "metadata": {
    "scrolled": false
   },
   "outputs": [
    {
     "data": {
      "image/png": "[encoded data removed]",
      "text/plain": [
       "<Figure size 864x432 with 1 Axes>"
      ]
     },
     "metadata": {
      "needs_background": "light"
     },
     "output_type": "display_data"
    }
   ],
   "source": [
    "# Visualisation\n",
    "\n",
    "plt.figure (figsize = (12,6))\n",
    "plt.box(False)\n",
    "plt.tick_params(bottom = False, left = False)\n",
    "plt.grid('whitegrid')\n",
    "\n",
    "plt.scatter('age', 'price', data = age_panier)\n",
    "\n",
    "plt.xlabel('âge')\n",
    "plt.ylabel('Panier moyen')\n",
    "plt.title(\"Montant du panier selon l'âge de clients\");"
   ]
  },
  {
   "cell_type": "code",
   "execution_count": 85,
   "metadata": {},
   "outputs": [
    {
     "data": {
      "text/plain": [
       "(-0.33021050655659046, 0.0)"
      ]
     },
     "execution_count": 85,
     "metadata": {},
     "output_type": "execute_result"
    }
   ],
   "source": [
    "# Correlation de pearson\n",
    "\n",
    "stats.pearsonr(age_panier.age, age_panier.price)"
   ]
  },
  {
   "cell_type": "code",
   "execution_count": 86,
   "metadata": {
    "scrolled": false
   },
   "outputs": [
    {
     "name": "stdout",
     "output_type": "stream",
     "text": [
      "Le montant de panier est plus elevé chez les clients moins de 30 ans et reste très stable dans le reste du groupe d'âge. Tous les groupe présentent des outliers assez importants.\n"
     ]
    },
    {
     "data": {
      "image/png": "[encoded data removed]",
      "text/plain": [
       "<Figure size 1080x576 with 1 Axes>"
      ]
     },
     "metadata": {
      "needs_background": "light"
     },
     "output_type": "display_data"
    }
   ],
   "source": [
    "# Visualisation\n",
    "\n",
    "plt.figure(figsize = (15,8))\n",
    "plt.grid(axis = 'y', color='silver', linewidth = 0.5)\n",
    "plt.box(False)\n",
    "plt.tick_params(bottom = False, left = False)\n",
    "\n",
    "sns.boxplot(x = 'age_group', y = 'price', data = age_panier)\n",
    "\n",
    "plt.xlabel('âge')\n",
    "plt.ylabel('Montant de panier')\n",
    "plt.title(\"Montant de panier selon l'âge de clients\", fontweight = 'bold');\n",
    "\n",
    "print(\"Le montant de panier est plus elevé chez les clients moins de 30 ans et reste très stable dans le reste du groupe d'âge. Tous les groupe présentent des outliers assez importants.\")"
   ]
  },
  {
   "cell_type": "code",
   "execution_count": 87,
   "metadata": {
    "scrolled": false
   },
   "outputs": [
    {
     "data": {
      "image/png": "[encoded data removed]",
      "text/plain": [
       "<Figure size 1080x1080 with 9 Axes>"
      ]
     },
     "metadata": {
      "needs_background": "light"
     },
     "output_type": "display_data"
    }
   ],
   "source": [
    "# Visualsiation de normalité\n",
    "\n",
    "fig = plt.figure (figsize = (15,15))\n",
    "\n",
    "\n",
    "ax1 = fig.add_subplot(331)\n",
    "ax1.spines.top.set_visible(False)\n",
    "ax1.spines.bottom.set_visible(False)\n",
    "ax1.spines.left.set_visible(False)\n",
    "ax1.spines.right.set_visible(False)\n",
    "ax1.grid(axis = 'y', alpha = 0.5)\n",
    "\n",
    "plt.hist(age_panier[age_panier.age <= 19]['age'])\n",
    "\n",
    "ax1.xaxis.set_ticks_position('none') \n",
    "ax1.yaxis.set_ticks_position('none') \n",
    "plt.title(\"Normalité du groupe d'âge 10-19\")\n",
    "plt.xlabel('âge')\n",
    "plt.ylabel('')\n",
    "\n",
    "\n",
    "ax2 = fig.add_subplot(332)\n",
    "ax2.spines.top.set_visible(False)\n",
    "ax2.spines.bottom.set_visible(False)\n",
    "ax2.spines.left.set_visible(False)\n",
    "ax2.spines.right.set_visible(False)\n",
    "ax2.grid(axis = 'y', alpha = 0.5)\n",
    "\n",
    "plt.hist(age_panier[(age_panier.age >= 20) &  (age_panier.age <= 29)]['age'])\n",
    "\n",
    "ax2.xaxis.set_ticks_position('none') \n",
    "ax2.yaxis.set_ticks_position('none')\n",
    "plt.title(\"Normalité du groupe d'âge 20-29\")\n",
    "plt.xlabel('âge')\n",
    "plt.ylabel('')\n",
    "\n",
    "\n",
    "ax2 = fig.add_subplot(333)\n",
    "ax2.spines.top.set_visible(False)\n",
    "ax2.spines.bottom.set_visible(False)\n",
    "ax2.spines.left.set_visible(False)\n",
    "ax2.spines.right.set_visible(False)\n",
    "ax2.grid(axis = 'y', alpha = 0.5)\n",
    "\n",
    "plt.hist(age_panier[(age_panier.age >= 30) &  (age_panier.age <= 39)]['age'])\n",
    "\n",
    "ax2.xaxis.set_ticks_position('none') \n",
    "ax2.yaxis.set_ticks_position('none')\n",
    "plt.title(\"Normalité du groupe d'âge 30-39\")\n",
    "plt.xlabel('âge')\n",
    "plt.ylabel('')\n",
    "\n",
    "\n",
    "ax2 = fig.add_subplot(334)\n",
    "ax2.spines.top.set_visible(False)\n",
    "ax2.spines.bottom.set_visible(False)\n",
    "ax2.spines.left.set_visible(False)\n",
    "ax2.spines.right.set_visible(False)\n",
    "ax2.grid(axis = 'y', alpha = 0.5)\n",
    "\n",
    "plt.hist(age_panier[(age_panier.age >= 40) &  (age_panier.age <= 49)]['age'])\n",
    "\n",
    "ax2.xaxis.set_ticks_position('none') \n",
    "ax2.yaxis.set_ticks_position('none')\n",
    "plt.title(\"Normalité du groupe d'âge 40-49\")\n",
    "plt.xlabel('âge')\n",
    "plt.ylabel('')\n",
    "\n",
    "\n",
    "ax2 = fig.add_subplot(335)\n",
    "ax2.spines.top.set_visible(False)\n",
    "ax2.spines.bottom.set_visible(False)\n",
    "ax2.spines.left.set_visible(False)\n",
    "ax2.spines.right.set_visible(False)\n",
    "ax2.grid(axis = 'y', alpha = 0.5)\n",
    "\n",
    "plt.hist(age_panier[(age_panier.age >= 50) &  (age_panier.age <= 59)]['age'])\n",
    "\n",
    "ax2.xaxis.set_ticks_position('none') \n",
    "ax2.yaxis.set_ticks_position('none')\n",
    "plt.title(\"Normalité du groupe d'âge 50-59\")\n",
    "plt.xlabel('âge')\n",
    "plt.ylabel('')\n",
    "\n",
    "\n",
    "ax2 = fig.add_subplot(336)\n",
    "ax2.spines.top.set_visible(False)\n",
    "ax2.spines.bottom.set_visible(False)\n",
    "ax2.spines.left.set_visible(False)\n",
    "ax2.spines.right.set_visible(False)\n",
    "ax2.grid(axis = 'y', alpha = 0.5)\n",
    "\n",
    "plt.hist(age_panier[(age_panier.age >= 60) &  (age_panier.age <= 69)]['age'])\n",
    "\n",
    "ax2.xaxis.set_ticks_position('none') \n",
    "ax2.yaxis.set_ticks_position('none')\n",
    "plt.title(\"Normalité du groupe d'âge 60-69\")\n",
    "plt.xlabel('âge')\n",
    "plt.ylabel('')\n",
    "\n",
    "\n",
    "ax2 = fig.add_subplot(337)\n",
    "ax2.spines.top.set_visible(False)\n",
    "ax2.spines.bottom.set_visible(False)\n",
    "ax2.spines.left.set_visible(False)\n",
    "ax2.spines.right.set_visible(False)\n",
    "ax2.grid(axis = 'y', alpha = 0.5)\n",
    "\n",
    "plt.hist(age_panier[(age_panier.age >= 70) &  (age_panier.age <= 79)]['age'])\n",
    "\n",
    "ax2.xaxis.set_ticks_position('none') \n",
    "ax2.yaxis.set_ticks_position('none')\n",
    "plt.title(\"Normalité du groupe d'âge 70-79\")\n",
    "plt.xlabel('âge')\n",
    "plt.ylabel('')\n",
    "\n",
    "\n",
    "ax2 = fig.add_subplot(338)\n",
    "ax2.spines.top.set_visible(False)\n",
    "ax2.spines.bottom.set_visible(False)\n",
    "ax2.spines.left.set_visible(False)\n",
    "ax2.spines.right.set_visible(False)\n",
    "ax2.grid(axis = 'y', alpha = 0.5)\n",
    "\n",
    "plt.hist(age_panier[(age_panier.age >= 80) &  (age_panier.age <= 89)]['age'])\n",
    "\n",
    "ax2.xaxis.set_ticks_position('none') \n",
    "ax2.yaxis.set_ticks_position('none')\n",
    "plt.title(\"Normalité du groupe d'âge 80-89\")\n",
    "plt.xlabel('âge')\n",
    "plt.ylabel('')\n",
    "\n",
    "\n",
    "ax2 = fig.add_subplot(339)\n",
    "ax2.spines.top.set_visible(False)\n",
    "ax2.spines.bottom.set_visible(False)\n",
    "ax2.spines.left.set_visible(False)\n",
    "ax2.spines.right.set_visible(False)\n",
    "ax2.grid(axis = 'y', alpha = 0.5)\n",
    "\n",
    "plt.hist(age_panier[(age_panier.age >= 90) &  (age_panier.age <= 99)]['age'])\n",
    "\n",
    "ax2.xaxis.set_ticks_position('none') \n",
    "ax2.yaxis.set_ticks_position('none')\n",
    "plt.title(\"Normalité du groupe d'âge 90-99\")\n",
    "plt.xlabel('âge')\n",
    "plt.ylabel('')\n",
    "fig.tight_layout();"
   ]
  },
  {
   "cell_type": "code",
   "execution_count": 88,
   "metadata": {
    "scrolled": false
   },
   "outputs": [
    {
     "name": "stdout",
     "output_type": "stream",
     "text": [
      "g_10\n",
      "ShapiroResult(statistic=1.0, pvalue=1.0)\n",
      "g_20\n",
      "ShapiroResult(statistic=0.9458171129226685, pvalue=0.0)\n",
      "g_30\n",
      "ShapiroResult(statistic=0.9509564638137817, pvalue=0.0)\n",
      "g_40\n",
      "ShapiroResult(statistic=0.9453654885292053, pvalue=0.0)\n",
      "g_50\n",
      "ShapiroResult(statistic=0.9471709132194519, pvalue=0.0)\n",
      "g_60\n",
      "ShapiroResult(statistic=0.9339603185653687, pvalue=0.0)\n",
      "g_70\n",
      "ShapiroResult(statistic=0.9251323938369751, pvalue=0.0)\n",
      "g_80\n",
      "ShapiroResult(statistic=0.9209386110305786, pvalue=0.0)\n",
      "g_90\n",
      "ShapiroResult(statistic=0.8575458526611328, pvalue=4.919645370046914e-26)\n"
     ]
    },
    {
     "name": "stderr",
     "output_type": "stream",
     "text": [
      "/Applications/anaconda3/lib/python3.7/site-packages/scipy/stats/morestats.py:1757: UserWarning: Input data for shapiro has range zero. The results may not be accurate.\n",
      "  warnings.warn(\"Input data for shapiro has range zero. The results \"\n",
      "/Applications/anaconda3/lib/python3.7/site-packages/scipy/stats/morestats.py:1760: UserWarning: p-value may not be accurate for N > 5000.\n",
      "  warnings.warn(\"p-value may not be accurate for N > 5000.\")\n"
     ]
    }
   ],
   "source": [
    "# Test de normalité\n",
    "\n",
    "g_10 = age_panier[age_panier.age <= 19]['age']\n",
    "g_20 = age_panier[(age_panier.age >= 20) &  (age_panier.age <= 29)]['age']\n",
    "g_30 = age_panier[(age_panier.age >= 30) &  (age_panier.age <= 39)]['age']\n",
    "g_40 = age_panier[(age_panier.age >= 40) &  (age_panier.age <= 49)]['age']\n",
    "g_50 = age_panier[(age_panier.age >= 50) &  (age_panier.age <= 59)]['age']\n",
    "g_60 = age_panier[(age_panier.age >= 60) &  (age_panier.age <= 69)]['age']\n",
    "g_70 = age_panier[(age_panier.age >= 70) &  (age_panier.age <= 79)]['age']\n",
    "g_80 = age_panier[(age_panier.age >= 80) &  (age_panier.age <= 89)]['age']\n",
    "g_90 = age_panier[(age_panier.age >= 90) &  (age_panier.age <= 99)]['age']\n",
    "\n",
    "age_group = [g_10, g_20, g_30, g_40, g_50, g_60, g_70, g_80, g_90]\n",
    "group_name = ['g_10', 'g_20', 'g_30', 'g_40', 'g_50', 'g_60', 'g_70', 'g_80', 'g_90']\n",
    "\n",
    "for i, j in zip (age_group, group_name) :\n",
    "    print( j)\n",
    "    print(stats.shapiro(i))"
   ]
  },
  {
   "cell_type": "code",
   "execution_count": 89,
   "metadata": {},
   "outputs": [
    {
     "name": "stdout",
     "output_type": "stream",
     "text": [
      "p-valeur :  0.0\n",
      "Le lien entre le montant du panier et l'âge des clients est significatif.\n"
     ]
    }
   ],
   "source": [
    "# test kruskal\n",
    "\n",
    "g_10 = age_panier[age_panier.age_group == '10-19']['price']\n",
    "g_20 = age_panier[age_panier.age_group == '20-29']['price']\n",
    "g_30 = age_panier[age_panier.age_group == '30-39']['price']\n",
    "g_40 = age_panier[age_panier.age_group == '40-49']['price']\n",
    "g_50 = age_panier[age_panier.age_group == '50-59']['price']\n",
    "g_60 = age_panier[age_panier.age_group == '60-69']['price']\n",
    "g_70 = age_panier[age_panier.age_group == '70-79']['price']\n",
    "g_80 = age_panier[age_panier.age_group == '80-89']['price']\n",
    "g_90 = age_panier[age_panier.age_group == '90-99']['price']\n",
    "\n",
    "k_stat, p_value = stats.kruskal(g_10, g_20, g_30, g_40, g_50, g_60, g_70, g_80, g_90)\n",
    "\n",
    "print(\"p-valeur : \", p_value)\n",
    "print(\"Le lien entre le montant du panier et l'âge des clients est significatif.\")"
   ]
  },
  {
   "cell_type": "markdown",
   "metadata": {},
   "source": [
    "### Lien âge client - montant panier moyen"
   ]
  },
  {
   "cell_type": "code",
   "execution_count": 90,
   "metadata": {},
   "outputs": [
    {
     "data": {
      "text/html": [
       "<div>\n",
       "<style scoped>\n",
       "    .dataframe tbody tr th:only-of-type {\n",
       "        vertical-align: middle;\n",
       "    }\n",
       "\n",
       "    .dataframe tbody tr th {\n",
       "        vertical-align: top;\n",
       "    }\n",
       "\n",
       "    .dataframe thead th {\n",
       "        text-align: right;\n",
       "    }\n",
       "</style>\n",
       "<table border=\"1\" class=\"dataframe\">\n",
       "  <thead>\n",
       "    <tr style=\"text-align: right;\">\n",
       "      <th></th>\n",
       "      <th>client_id</th>\n",
       "      <th>price</th>\n",
       "      <th>age</th>\n",
       "      <th>age_group</th>\n",
       "    </tr>\n",
       "  </thead>\n",
       "  <tbody>\n",
       "    <tr>\n",
       "      <th>0</th>\n",
       "      <td>c_1</td>\n",
       "      <td>17.193438</td>\n",
       "      <td>68</td>\n",
       "      <td>60-69</td>\n",
       "    </tr>\n",
       "    <tr>\n",
       "      <th>1</th>\n",
       "      <td>c_10</td>\n",
       "      <td>39.811765</td>\n",
       "      <td>67</td>\n",
       "      <td>60-69</td>\n",
       "    </tr>\n",
       "    <tr>\n",
       "      <th>2</th>\n",
       "      <td>c_100</td>\n",
       "      <td>50.970000</td>\n",
       "      <td>31</td>\n",
       "      <td>30-39</td>\n",
       "    </tr>\n",
       "    <tr>\n",
       "      <th>3</th>\n",
       "      <td>c_1000</td>\n",
       "      <td>24.284835</td>\n",
       "      <td>57</td>\n",
       "      <td>50-59</td>\n",
       "    </tr>\n",
       "    <tr>\n",
       "      <th>4</th>\n",
       "      <td>c_1001</td>\n",
       "      <td>39.812791</td>\n",
       "      <td>41</td>\n",
       "      <td>40-49</td>\n",
       "    </tr>\n",
       "  </tbody>\n",
       "</table>\n",
       "</div>"
      ],
      "text/plain": [
       "  client_id      price  age age_group\n",
       "0       c_1  17.193438   68     60-69\n",
       "1      c_10  39.811765   67     60-69\n",
       "2     c_100  50.970000   31     30-39\n",
       "3    c_1000  24.284835   57     50-59\n",
       "4    c_1001  39.812791   41     40-49"
      ]
     },
     "execution_count": 90,
     "metadata": {},
     "output_type": "execute_result"
    }
   ],
   "source": [
    "# Panier moyen\n",
    "\n",
    "age_panier_moyen = tpc[['session_id','client_id','price','age','age_group']].groupby(['client_id', 'session_id']).agg({'price':sum, 'age':min, 'age_group':min}).reset_index()\n",
    "age_panier_moyen = age_panier_moyen[['client_id','price','age','age_group']].groupby('client_id').agg({'price':'mean', 'age':'min', 'age_group':'min'}).reset_index()\n",
    "age_panier_moyen.head()"
   ]
  },
  {
   "cell_type": "code",
   "execution_count": 91,
   "metadata": {
    "scrolled": false
   },
   "outputs": [
    {
     "data": {
      "image/png": "[encoded data removed]",
      "text/plain": [
       "<Figure size 864x432 with 1 Axes>"
      ]
     },
     "metadata": {
      "needs_background": "light"
     },
     "output_type": "display_data"
    }
   ],
   "source": [
    "# Visualisation\n",
    "\n",
    "plt.figure (figsize = (12,6))\n",
    "plt.box(False)\n",
    "plt.tick_params(bottom = False, left = False)\n",
    "plt.grid('whitegrid')\n",
    "\n",
    "plt.scatter('age', 'price', data = age_panier_moyen)\n",
    "\n",
    "plt.xlabel('âge')\n",
    "plt.ylabel('Panier moyen')\n",
    "plt.title(\"Panier moyen selon l'âge de clients\");"
   ]
  },
  {
   "cell_type": "code",
   "execution_count": 92,
   "metadata": {},
   "outputs": [
    {
     "data": {
      "text/plain": [
       "(-0.6099913532737816, 0.0)"
      ]
     },
     "execution_count": 92,
     "metadata": {},
     "output_type": "execute_result"
    }
   ],
   "source": [
    "# Correlation de pearson\n",
    "\n",
    "stats.pearsonr(age_panier_moyen.age, age_panier_moyen.price)"
   ]
  },
  {
   "cell_type": "code",
   "execution_count": 93,
   "metadata": {
    "scrolled": false
   },
   "outputs": [
    {
     "name": "stdout",
     "output_type": "stream",
     "text": [
      "Le panier moyen est plus elevé chez les clients moins de 30 ans et reste assez stable dans le reste du groupe d'âge avec une baisse progressive à partir de 30 ans. Tous les groupe présentent des outliers assez importants.\n"
     ]
    },
    {
     "data": {
      "image/png": "[encoded data removed]",
      "text/plain": [
       "<Figure size 1080x576 with 1 Axes>"
      ]
     },
     "metadata": {
      "needs_background": "light"
     },
     "output_type": "display_data"
    }
   ],
   "source": [
    "# Visualisation\n",
    "\n",
    "plt.figure(figsize = (15,8))\n",
    "plt.grid(axis = 'y', color='silver', linewidth = 0.5)\n",
    "plt.box(False)\n",
    "plt.tick_params(bottom = False, left = False)\n",
    "\n",
    "sns.boxplot(x = 'age_group', y = 'price', data = age_panier_moyen)\n",
    "\n",
    "plt.xlabel('âge')\n",
    "plt.ylabel('Panier moyen')\n",
    "plt.title(\"Panier moyen selon l'âge de clients\");\n",
    "\n",
    "print(\"Le panier moyen est plus elevé chez les clients moins de 30 ans et reste assez stable dans le reste du groupe d'âge avec une baisse progressive à partir de 30 ans. Tous les groupe présentent des outliers assez importants.\")"
   ]
  },
  {
   "cell_type": "code",
   "execution_count": 94,
   "metadata": {},
   "outputs": [
    {
     "name": "stdout",
     "output_type": "stream",
     "text": [
      "p-valeur :  0.0\n",
      "Le lien entre le montant du panier moyen et l'âge des clients est significatif.\n"
     ]
    }
   ],
   "source": [
    "# test kruskal\n",
    "\n",
    "g_10 = age_panier_moyen[age_panier_moyen.age_group == '10-19']['price']\n",
    "g_20 = age_panier_moyen[age_panier_moyen.age_group == '20-29']['price']\n",
    "g_30 = age_panier_moyen[age_panier_moyen.age_group == '30-39']['price']\n",
    "g_40 = age_panier_moyen[age_panier_moyen.age_group == '40-49']['price']\n",
    "g_50 = age_panier_moyen[age_panier_moyen.age_group == '50-59']['price']\n",
    "g_60 = age_panier_moyen[age_panier_moyen.age_group == '60-69']['price']\n",
    "g_70 = age_panier_moyen[age_panier_moyen.age_group == '70-79']['price']\n",
    "g_80 = age_panier_moyen[age_panier_moyen.age_group == '80-89']['price']\n",
    "g_90 = age_panier_moyen[age_panier_moyen.age_group == '90-99']['price']\n",
    "\n",
    "k_stat, p_value = stats.kruskal(g_10, g_20, g_30, g_40, g_50, g_60, g_70, g_80, g_90)\n",
    "\n",
    "print(\"p-valeur : \", p_value)\n",
    "print(\"Le lien entre le montant du panier moyen et l'âge des clients est significatif.\")"
   ]
  },
  {
   "cell_type": "markdown",
   "metadata": {},
   "source": [
    "### Lien âge client - fréquence d'achat"
   ]
  },
  {
   "cell_type": "code",
   "execution_count": 95,
   "metadata": {},
   "outputs": [
    {
     "data": {
      "text/html": [
       "<div>\n",
       "<style scoped>\n",
       "    .dataframe tbody tr th:only-of-type {\n",
       "        vertical-align: middle;\n",
       "    }\n",
       "\n",
       "    .dataframe tbody tr th {\n",
       "        vertical-align: top;\n",
       "    }\n",
       "\n",
       "    .dataframe thead th {\n",
       "        text-align: right;\n",
       "    }\n",
       "</style>\n",
       "<table border=\"1\" class=\"dataframe\">\n",
       "  <thead>\n",
       "    <tr style=\"text-align: right;\">\n",
       "      <th></th>\n",
       "      <th>client_id</th>\n",
       "      <th>month_freq</th>\n",
       "      <th>age</th>\n",
       "      <th>age_group</th>\n",
       "      <th>month_freq_group</th>\n",
       "    </tr>\n",
       "  </thead>\n",
       "  <tbody>\n",
       "    <tr>\n",
       "      <th>0</th>\n",
       "      <td>c_1</td>\n",
       "      <td>16</td>\n",
       "      <td>68</td>\n",
       "      <td>60-69</td>\n",
       "      <td>more than 15</td>\n",
       "    </tr>\n",
       "    <tr>\n",
       "      <th>1</th>\n",
       "      <td>c_10</td>\n",
       "      <td>16</td>\n",
       "      <td>67</td>\n",
       "      <td>60-69</td>\n",
       "      <td>more than 15</td>\n",
       "    </tr>\n",
       "    <tr>\n",
       "      <th>2</th>\n",
       "      <td>c_100</td>\n",
       "      <td>5</td>\n",
       "      <td>31</td>\n",
       "      <td>30-39</td>\n",
       "      <td>less than 5</td>\n",
       "    </tr>\n",
       "    <tr>\n",
       "      <th>3</th>\n",
       "      <td>c_1000</td>\n",
       "      <td>21</td>\n",
       "      <td>57</td>\n",
       "      <td>50-59</td>\n",
       "      <td>more than 15</td>\n",
       "    </tr>\n",
       "    <tr>\n",
       "      <th>4</th>\n",
       "      <td>c_1001</td>\n",
       "      <td>19</td>\n",
       "      <td>41</td>\n",
       "      <td>40-49</td>\n",
       "      <td>more than 15</td>\n",
       "    </tr>\n",
       "  </tbody>\n",
       "</table>\n",
       "</div>"
      ],
      "text/plain": [
       "  client_id  month_freq  age age_group month_freq_group\n",
       "0       c_1          16   68     60-69     more than 15\n",
       "1      c_10          16   67     60-69     more than 15\n",
       "2     c_100           5   31     30-39      less than 5\n",
       "3    c_1000          21   57     50-59     more than 15\n",
       "4    c_1001          19   41     40-49     more than 15"
      ]
     },
     "execution_count": 95,
     "metadata": {},
     "output_type": "execute_result"
    }
   ],
   "source": [
    "# Fréquence d'achat\n",
    "\n",
    "customer_frequency = tpc[['date','client_id','age','session_id','age_group']].groupby(['client_id', pd.Grouper(key = 'date', freq = \"m\")]).agg({'session_id':'count', 'age':'min', 'age_group':'min'}).reset_index()\n",
    "customer_frequency = customer_frequency[['client_id','session_id','age','age_group']].groupby('client_id').agg({'session_id':'count', 'age':'min', 'age_group':'min'}).reset_index()\n",
    "customer_frequency = customer_frequency.rename(columns = {'session_id':'month_freq'})\n",
    "customer_frequency['month_freq_group'] = pd.cut(customer_frequency.month_freq,\n",
    "                                                bins = [0, 5, 15, 25],\n",
    "                                                labels = ['less than 5','between 5-15',' more than 15'])\n",
    "customer_frequency.head()"
   ]
  },
  {
   "cell_type": "code",
   "execution_count": 96,
   "metadata": {},
   "outputs": [
    {
     "data": {
      "text/html": [
       "<div>\n",
       "<style scoped>\n",
       "    .dataframe tbody tr th:only-of-type {\n",
       "        vertical-align: middle;\n",
       "    }\n",
       "\n",
       "    .dataframe tbody tr th {\n",
       "        vertical-align: top;\n",
       "    }\n",
       "\n",
       "    .dataframe thead th {\n",
       "        text-align: right;\n",
       "    }\n",
       "</style>\n",
       "<table border=\"1\" class=\"dataframe\">\n",
       "  <thead>\n",
       "    <tr style=\"text-align: right;\">\n",
       "      <th>month_freq_group</th>\n",
       "      <th>less than 5</th>\n",
       "      <th>between 5-15</th>\n",
       "      <th>more than 15</th>\n",
       "      <th>All</th>\n",
       "    </tr>\n",
       "    <tr>\n",
       "      <th>age_group</th>\n",
       "      <th></th>\n",
       "      <th></th>\n",
       "      <th></th>\n",
       "      <th></th>\n",
       "    </tr>\n",
       "  </thead>\n",
       "  <tbody>\n",
       "    <tr>\n",
       "      <th>10-19</th>\n",
       "      <td>48</td>\n",
       "      <td>262</td>\n",
       "      <td>127</td>\n",
       "      <td>437</td>\n",
       "    </tr>\n",
       "    <tr>\n",
       "      <th>20-29</th>\n",
       "      <td>194</td>\n",
       "      <td>931</td>\n",
       "      <td>383</td>\n",
       "      <td>1508</td>\n",
       "    </tr>\n",
       "    <tr>\n",
       "      <th>30-39</th>\n",
       "      <td>77</td>\n",
       "      <td>581</td>\n",
       "      <td>960</td>\n",
       "      <td>1618</td>\n",
       "    </tr>\n",
       "    <tr>\n",
       "      <th>40-49</th>\n",
       "      <td>43</td>\n",
       "      <td>538</td>\n",
       "      <td>1196</td>\n",
       "      <td>1777</td>\n",
       "    </tr>\n",
       "    <tr>\n",
       "      <th>50-59</th>\n",
       "      <td>79</td>\n",
       "      <td>554</td>\n",
       "      <td>859</td>\n",
       "      <td>1492</td>\n",
       "    </tr>\n",
       "    <tr>\n",
       "      <th>60-69</th>\n",
       "      <td>59</td>\n",
       "      <td>393</td>\n",
       "      <td>576</td>\n",
       "      <td>1028</td>\n",
       "    </tr>\n",
       "    <tr>\n",
       "      <th>70-79</th>\n",
       "      <td>33</td>\n",
       "      <td>208</td>\n",
       "      <td>264</td>\n",
       "      <td>505</td>\n",
       "    </tr>\n",
       "    <tr>\n",
       "      <th>80-89</th>\n",
       "      <td>8</td>\n",
       "      <td>86</td>\n",
       "      <td>114</td>\n",
       "      <td>208</td>\n",
       "    </tr>\n",
       "    <tr>\n",
       "      <th>90-99</th>\n",
       "      <td>3</td>\n",
       "      <td>9</td>\n",
       "      <td>13</td>\n",
       "      <td>25</td>\n",
       "    </tr>\n",
       "    <tr>\n",
       "      <th>All</th>\n",
       "      <td>544</td>\n",
       "      <td>3562</td>\n",
       "      <td>4492</td>\n",
       "      <td>8598</td>\n",
       "    </tr>\n",
       "  </tbody>\n",
       "</table>\n",
       "</div>"
      ],
      "text/plain": [
       "month_freq_group  less than 5  between 5-15   more than 15   All\n",
       "age_group                                                       \n",
       "10-19                      48           262            127   437\n",
       "20-29                     194           931            383  1508\n",
       "30-39                      77           581            960  1618\n",
       "40-49                      43           538           1196  1777\n",
       "50-59                      79           554            859  1492\n",
       "60-69                      59           393            576  1028\n",
       "70-79                      33           208            264   505\n",
       "80-89                       8            86            114   208\n",
       "90-99                       3             9             13    25\n",
       "All                       544          3562           4492  8598"
      ]
     },
     "execution_count": 96,
     "metadata": {},
     "output_type": "execute_result"
    }
   ],
   "source": [
    "# Table de contingence\n",
    "\n",
    "customer_frequency_cross = pd.crosstab(customer_frequency.age_group, customer_frequency.month_freq_group, margins = True)\n",
    "customer_frequency_cross"
   ]
  },
  {
   "cell_type": "code",
   "execution_count": 97,
   "metadata": {
    "scrolled": false
   },
   "outputs": [
    {
     "data": {
      "image/png": "[encoded data removed]",
      "text/plain": [
       "<Figure size 864x432 with 1 Axes>"
      ]
     },
     "metadata": {
      "needs_background": "light"
     },
     "output_type": "display_data"
    }
   ],
   "source": [
    "# Visualisation\n",
    "\n",
    "plt.figure (figsize = (12,6))\n",
    "plt.box(False)\n",
    "plt.tick_params(bottom = False, left = False)\n",
    "plt.grid('whitegrid')\n",
    "\n",
    "plt.scatter('age', 'month_freq', data = customer_frequency)\n",
    "\n",
    "plt.xlabel('âge')\n",
    "plt.ylabel(\"fréquence d'achat\")\n",
    "plt.title(\"fréquence d'achat par mois selon l'âge de client\");"
   ]
  },
  {
   "cell_type": "code",
   "execution_count": 98,
   "metadata": {},
   "outputs": [
    {
     "data": {
      "text/plain": [
       "(0.18627005389275755, 5.604517807917164e-68)"
      ]
     },
     "execution_count": 98,
     "metadata": {},
     "output_type": "execute_result"
    }
   ],
   "source": [
    "# Correlation de pearson\n",
    "\n",
    "stats.pearsonr(customer_frequency.age, customer_frequency.month_freq)"
   ]
  },
  {
   "cell_type": "code",
   "execution_count": 99,
   "metadata": {
    "scrolled": false
   },
   "outputs": [
    {
     "name": "stdout",
     "output_type": "stream",
     "text": [
      "La fréquence d'achat est moins élevée chez les clients moins de 30 ans. La fréquence reste assez stable à partir de 30 ans avec une baisse progressive à partir de 50 ans avec grande variabilité chez les plus de 90 ans, probablement à cause de peu de données disponible pour cette tranche d'âge.\n"
     ]
    },
    {
     "data": {
      "image/png": "[encoded data removed]",
      "text/plain": [
       "<Figure size 1080x576 with 1 Axes>"
      ]
     },
     "metadata": {
      "needs_background": "light"
     },
     "output_type": "display_data"
    }
   ],
   "source": [
    "# Visualisation\n",
    "\n",
    "plt.figure(figsize = (15,8))\n",
    "plt.box(False)\n",
    "plt.tick_params(bottom = False, left = False)\n",
    "plt.grid(axis = 'y', color='silver', linewidth = 0.5)\n",
    "\n",
    "sns.boxplot(x = 'age_group', y = 'month_freq', data = customer_frequency)\n",
    "\n",
    "plt.xlabel('âge')\n",
    "plt.ylabel(\"fréquence d'achat\")\n",
    "plt.title(\"Fréquence d'achat par mois selon l'âge de client\");\n",
    "\n",
    "print(\"La fréquence d'achat est moins élevée chez les clients moins de 30 ans. La fréquence reste assez stable à partir de 30 ans avec une baisse progressive à partir de 50 ans avec grande variabilité chez les plus de 90 ans, probablement à cause de peu de données disponible pour cette tranche d'âge.\")"
   ]
  },
  {
   "cell_type": "code",
   "execution_count": 100,
   "metadata": {},
   "outputs": [
    {
     "data": {
      "image/png": "[encoded data removed]",
      "text/plain": [
       "<Figure size 1152x360 with 2 Axes>"
      ]
     },
     "metadata": {
      "needs_background": "light"
     },
     "output_type": "display_data"
    }
   ],
   "source": [
    "# Visualisation\n",
    "\n",
    "fig = plt.figure (figsize = (16,5))\n",
    "\n",
    "ax1 = fig.add_subplot(121)\n",
    "ax1.spines.top.set_visible(False)\n",
    "ax1.spines.bottom.set_visible(False)\n",
    "ax1.spines.left.set_visible(False)\n",
    "ax1.spines.right.set_visible(False)\n",
    "ax1.grid(axis = 'y', alpha = 0.5)\n",
    "\n",
    "sns.countplot(x = 'age_group', hue = 'month_freq_group', data = customer_frequency)\n",
    "\n",
    "ax1.xaxis.set_ticks_position('none') \n",
    "ax1.yaxis.set_ticks_position('none') \n",
    "plt.title(\"Fréquence d'achat par l'âge de client\", fontweight = 'bold')\n",
    "plt.xlabel('âge')\n",
    "plt.ylabel('')\n",
    "plt.legend()\n",
    "\n",
    "ax2 = fig.add_subplot(122)\n",
    "ax2.spines.top.set_visible(False)\n",
    "ax2.spines.bottom.set_visible(False)\n",
    "ax2.spines.left.set_visible(False)\n",
    "ax2.spines.right.set_visible(False)\n",
    "ax2.grid(axis = 'y', alpha = 0.5)\n",
    "\n",
    "sns.countplot(x = 'month_freq_group', hue = 'age_group', data = customer_frequency, palette ='Set2')\n",
    "\n",
    "ax2.xaxis.set_ticks_position('none') \n",
    "ax2.yaxis.set_ticks_position('none')\n",
    "plt.title(\"Âge de clients par la fréquence d'achat\", fontweight = 'bold')\n",
    "plt.xlabel('fréquence')\n",
    "plt.ylabel('')\n",
    "plt.legend();"
   ]
  },
  {
   "cell_type": "code",
   "execution_count": 101,
   "metadata": {},
   "outputs": [
    {
     "name": "stdout",
     "output_type": "stream",
     "text": [
      "chi2: 790.2652358108468\n",
      "p-valeur: 4.326739026469513e-149\n",
      "Le lien entre l'âge et la fréquence d'achat est significatif.\n"
     ]
    }
   ],
   "source": [
    "## Test Chi2\n",
    "\n",
    "\n",
    "chi_2, p, df, expected = stats.chi2_contingency(customer_frequency_cross)\n",
    "\n",
    "print(\"chi2:\", chi_2)\n",
    "print(\"p-valeur:\", p)\n",
    "print(\"Le lien entre l'âge et la fréquence d'achat est significatif.\")"
   ]
  },
  {
   "cell_type": "markdown",
   "metadata": {},
   "source": [
    "### Lien âge client - catégorie livre"
   ]
  },
  {
   "cell_type": "code",
   "execution_count": 102,
   "metadata": {
    "scrolled": true
   },
   "outputs": [
    {
     "data": {
      "text/html": [
       "<div>\n",
       "<style scoped>\n",
       "    .dataframe tbody tr th:only-of-type {\n",
       "        vertical-align: middle;\n",
       "    }\n",
       "\n",
       "    .dataframe tbody tr th {\n",
       "        vertical-align: top;\n",
       "    }\n",
       "\n",
       "    .dataframe thead th {\n",
       "        text-align: right;\n",
       "    }\n",
       "</style>\n",
       "<table border=\"1\" class=\"dataframe\">\n",
       "  <thead>\n",
       "    <tr style=\"text-align: right;\">\n",
       "      <th>categ</th>\n",
       "      <th>0.0</th>\n",
       "      <th>1.0</th>\n",
       "      <th>2.0</th>\n",
       "      <th>All</th>\n",
       "    </tr>\n",
       "    <tr>\n",
       "      <th>age_group</th>\n",
       "      <th></th>\n",
       "      <th></th>\n",
       "      <th></th>\n",
       "      <th></th>\n",
       "    </tr>\n",
       "  </thead>\n",
       "  <tbody>\n",
       "    <tr>\n",
       "      <th>10-19</th>\n",
       "      <td>3276</td>\n",
       "      <td>5661</td>\n",
       "      <td>5813</td>\n",
       "      <td>14750</td>\n",
       "    </tr>\n",
       "    <tr>\n",
       "      <th>20-29</th>\n",
       "      <td>10429</td>\n",
       "      <td>20116</td>\n",
       "      <td>22311</td>\n",
       "      <td>52856</td>\n",
       "    </tr>\n",
       "    <tr>\n",
       "      <th>30-39</th>\n",
       "      <td>114351</td>\n",
       "      <td>39569</td>\n",
       "      <td>4543</td>\n",
       "      <td>158463</td>\n",
       "    </tr>\n",
       "    <tr>\n",
       "      <th>40-49</th>\n",
       "      <td>168606</td>\n",
       "      <td>53802</td>\n",
       "      <td>745</td>\n",
       "      <td>223153</td>\n",
       "    </tr>\n",
       "    <tr>\n",
       "      <th>50-59</th>\n",
       "      <td>59384</td>\n",
       "      <td>52920</td>\n",
       "      <td>1010</td>\n",
       "      <td>113314</td>\n",
       "    </tr>\n",
       "    <tr>\n",
       "      <th>60-69</th>\n",
       "      <td>23684</td>\n",
       "      <td>31500</td>\n",
       "      <td>534</td>\n",
       "      <td>55718</td>\n",
       "    </tr>\n",
       "    <tr>\n",
       "      <th>70-79</th>\n",
       "      <td>11028</td>\n",
       "      <td>14476</td>\n",
       "      <td>209</td>\n",
       "      <td>25713</td>\n",
       "    </tr>\n",
       "    <tr>\n",
       "      <th>80-89</th>\n",
       "      <td>4730</td>\n",
       "      <td>6406</td>\n",
       "      <td>120</td>\n",
       "      <td>11256</td>\n",
       "    </tr>\n",
       "    <tr>\n",
       "      <th>90-99</th>\n",
       "      <td>473</td>\n",
       "      <td>711</td>\n",
       "      <td>8</td>\n",
       "      <td>1192</td>\n",
       "    </tr>\n",
       "    <tr>\n",
       "      <th>All</th>\n",
       "      <td>395961</td>\n",
       "      <td>225161</td>\n",
       "      <td>35293</td>\n",
       "      <td>656415</td>\n",
       "    </tr>\n",
       "  </tbody>\n",
       "</table>\n",
       "</div>"
      ],
      "text/plain": [
       "categ         0.0     1.0    2.0     All\n",
       "age_group                               \n",
       "10-19        3276    5661   5813   14750\n",
       "20-29       10429   20116  22311   52856\n",
       "30-39      114351   39569   4543  158463\n",
       "40-49      168606   53802    745  223153\n",
       "50-59       59384   52920   1010  113314\n",
       "60-69       23684   31500    534   55718\n",
       "70-79       11028   14476    209   25713\n",
       "80-89        4730    6406    120   11256\n",
       "90-99         473     711      8    1192\n",
       "All        395961  225161  35293  656415"
      ]
     },
     "execution_count": 102,
     "metadata": {},
     "output_type": "execute_result"
    }
   ],
   "source": [
    "# Catégorie par âge\n",
    "\n",
    "age_cat = pd.crosstab(tpc.age_group, tpc.categ, margins = True)\n",
    "age_cat"
   ]
  },
  {
   "cell_type": "code",
   "execution_count": 103,
   "metadata": {
    "scrolled": false
   },
   "outputs": [
    {
     "name": "stdout",
     "output_type": "stream",
     "text": [
      "Les clients moins de 30 ans achète principalement les livres de catégories 0 et 1. Les clients entre 30 et et 50 ans achètent plus de livres de catégorie 0. À partir de 60 ans, les clients achètent plus de livres de catégorie 1 qui est d'ailleurs présent dans le panier de tous les groupes d'âge.\n"
     ]
    },
    {
     "data": {
      "image/png": "[encoded data removed]",
      "text/plain": [
       "<Figure size 1152x360 with 2 Axes>"
      ]
     },
     "metadata": {
      "needs_background": "light"
     },
     "output_type": "display_data"
    }
   ],
   "source": [
    "# Visualisation\n",
    "\n",
    "fig = plt.figure (figsize = (16,5))\n",
    "\n",
    "ax1 = fig.add_subplot(121)\n",
    "ax1.spines.top.set_visible(False)\n",
    "ax1.spines.bottom.set_visible(False)\n",
    "ax1.spines.left.set_visible(False)\n",
    "ax1.spines.right.set_visible(False)\n",
    "ax1.grid(axis = 'y', alpha = 0.5)\n",
    "\n",
    "sns.countplot(x = 'age_group', hue = 'categ', data = tpc)\n",
    "\n",
    "ax1.xaxis.set_ticks_position('none') \n",
    "ax1.yaxis.set_ticks_position('none') \n",
    "plt.title(\"Catégorie de livres achetés selon l'âge de clients\", fontweight = 'bold')\n",
    "plt.xlabel('âge')\n",
    "plt.ylabel('')\n",
    "plt.legend()\n",
    "\n",
    "ax2 = fig.add_subplot(122)\n",
    "ax2.spines.top.set_visible(False)\n",
    "ax2.spines.bottom.set_visible(False)\n",
    "ax2.spines.left.set_visible(False)\n",
    "ax2.spines.right.set_visible(False)\n",
    "ax2.grid(axis = 'y', alpha = 0.5)\n",
    "\n",
    "sns.countplot(x = 'categ', hue = 'age_group', data = tpc, palette ='Set2')\n",
    "\n",
    "ax2.xaxis.set_ticks_position('none') \n",
    "ax2.yaxis.set_ticks_position('none')\n",
    "plt.title(\"Âge de clients selon la catégorie de livres achetés\", fontweight = 'bold')\n",
    "plt.xlabel('catégorie')\n",
    "plt.ylabel('')\n",
    "plt.legend();\n",
    "\n",
    "print(\"Les clients moins de 30 ans achète principalement les livres de catégories 0 et 1. Les clients entre 30 et et 50 ans achètent plus de livres de catégorie 0. À partir de 60 ans, les clients achètent plus de livres de catégorie 1 qui est d'ailleurs présent dans le panier de tous les groupes d'âge.\")"
   ]
  },
  {
   "cell_type": "code",
   "execution_count": 104,
   "metadata": {
    "scrolled": true
   },
   "outputs": [
    {
     "name": "stdout",
     "output_type": "stream",
     "text": [
      "chi: 251339.13107589874\n",
      "p-valeur: 0.0\n",
      "Le lien entre l'âge de clients et la catégorie de livres achetés est significatif.\n"
     ]
    }
   ],
   "source": [
    "# Test Chi2\n",
    "\n",
    "chi_2, p, df, expected = stats.chi2_contingency(age_cat)\n",
    "\n",
    "print(\"chi:\", chi_2)\n",
    "print(\"p-valeur:\", p)\n",
    "print(\"Le lien entre l'âge de clients et la catégorie de livres achetés est significatif.\")"
   ]
  }
 ],
 "metadata": {
  "kernelspec": {
   "display_name": "Python 3",
   "language": "python",
   "name": "python3"
  },
  "language_info": {
   "codemirror_mode": {
    "name": "ipython",
    "version": 3
   },
   "file_extension": ".py",
   "mimetype": "text/x-python",
   "name": "python",
   "nbconvert_exporter": "python",
   "pygments_lexer": "ipython3",
   "version": "3.7.3"
  }
 },
 "nbformat": 4,
 "nbformat_minor": 2
}
